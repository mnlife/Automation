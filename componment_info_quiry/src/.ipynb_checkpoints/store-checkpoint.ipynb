{
 "cells": [
  {
   "cell_type": "code",
   "execution_count": 1,
   "metadata": {
    "collapsed": true
   },
   "outputs": [],
   "source": [
    "# -*- coding: utf-8 -*-\n",
    "from selenium import webdriver\n",
    "from selenium.webdriver.common.by import By\n",
    "from selenium.webdriver.common.keys import Keys\n",
    "from selenium.webdriver.support import expected_conditions as EC\n",
    "from selenium.webdriver.support.wait import WebDriverWait\n",
    "from selenium.webdriver.support.select import Select\n",
    "import time\n",
    "import pandas as pd\n",
    "import os\n",
    "from base import *"
   ]
  },
  {
   "cell_type": "code",
   "execution_count": 2,
   "metadata": {
    "collapsed": true
   },
   "outputs": [],
   "source": [
    "def my_test(a, b):\n",
    "    return a + b\n",
    "#bom['Value'] = bom.apply(bom, axis = 0, args = (\"Part_Number\", \"QTY\"))\n",
    "#for qty, part_number in bom['Value']:\n",
    "#    print(part_number, qty)\n",
    "#a = pd.Series([bom[\"QTY\"],bom[\"Part_Number\"]])\n",
    "#bom.columns()"
   ]
  },
  {
   "cell_type": "code",
   "execution_count": 3,
   "metadata": {},
   "outputs": [
    {
     "ename": "FileNotFoundError",
     "evalue": "[Errno 2] No such file or directory: './source/Board.xlsx'",
     "output_type": "error",
     "traceback": [
      "\u001b[1;31m---------------------------------------------------------------------------\u001b[0m",
      "\u001b[1;31mFileNotFoundError\u001b[0m                         Traceback (most recent call last)",
      "\u001b[1;32m<ipython-input-3-f1d984c087bb>\u001b[0m in \u001b[0;36m<module>\u001b[1;34m()\u001b[0m\n\u001b[0;32m      3\u001b[0m \u001b[0mSHEETNAMEC\u001b[0m \u001b[1;33m=\u001b[0m \u001b[1;34m\"Schematic1\"\u001b[0m\u001b[1;33m\u001b[0m\u001b[0m\n\u001b[0;32m      4\u001b[0m \u001b[0mpath\u001b[0m \u001b[1;33m=\u001b[0m \u001b[1;34m\"D:\\SPIDER\\chromedriver.exe\"\u001b[0m\u001b[1;33m\u001b[0m\u001b[0m\n\u001b[1;32m----> 5\u001b[1;33m \u001b[0mbom\u001b[0m \u001b[1;33m=\u001b[0m \u001b[0mpd\u001b[0m\u001b[1;33m.\u001b[0m\u001b[0mread_excel\u001b[0m\u001b[1;33m(\u001b[0m\u001b[0mio\u001b[0m\u001b[1;33m=\u001b[0m\u001b[0mIOC\u001b[0m\u001b[1;33m,\u001b[0m \u001b[0msheetname\u001b[0m\u001b[1;33m=\u001b[0m\u001b[0mSHEETNAMEC\u001b[0m\u001b[1;33m)\u001b[0m\u001b[1;33m\u001b[0m\u001b[0m\n\u001b[0m\u001b[0;32m      6\u001b[0m \u001b[0mbom\u001b[0m\u001b[1;33m.\u001b[0m\u001b[0mhead\u001b[0m\u001b[1;33m(\u001b[0m\u001b[1;36m1\u001b[0m\u001b[1;33m)\u001b[0m\u001b[1;33m\u001b[0m\u001b[0m\n\u001b[0;32m      7\u001b[0m \u001b[1;33m\u001b[0m\u001b[0m\n",
      "\u001b[1;32mC:\\ProgramData\\Anaconda3\\lib\\site-packages\\pandas\\io\\excel.py\u001b[0m in \u001b[0;36mread_excel\u001b[1;34m(io, sheetname, header, skiprows, skip_footer, index_col, names, parse_cols, parse_dates, date_parser, na_values, thousands, convert_float, has_index_names, converters, dtype, true_values, false_values, engine, squeeze, **kwds)\u001b[0m\n\u001b[0;32m    201\u001b[0m \u001b[1;33m\u001b[0m\u001b[0m\n\u001b[0;32m    202\u001b[0m     \u001b[1;32mif\u001b[0m \u001b[1;32mnot\u001b[0m \u001b[0misinstance\u001b[0m\u001b[1;33m(\u001b[0m\u001b[0mio\u001b[0m\u001b[1;33m,\u001b[0m \u001b[0mExcelFile\u001b[0m\u001b[1;33m)\u001b[0m\u001b[1;33m:\u001b[0m\u001b[1;33m\u001b[0m\u001b[0m\n\u001b[1;32m--> 203\u001b[1;33m         \u001b[0mio\u001b[0m \u001b[1;33m=\u001b[0m \u001b[0mExcelFile\u001b[0m\u001b[1;33m(\u001b[0m\u001b[0mio\u001b[0m\u001b[1;33m,\u001b[0m \u001b[0mengine\u001b[0m\u001b[1;33m=\u001b[0m\u001b[0mengine\u001b[0m\u001b[1;33m)\u001b[0m\u001b[1;33m\u001b[0m\u001b[0m\n\u001b[0m\u001b[0;32m    204\u001b[0m \u001b[1;33m\u001b[0m\u001b[0m\n\u001b[0;32m    205\u001b[0m     return io._parse_excel(\n",
      "\u001b[1;32mC:\\ProgramData\\Anaconda3\\lib\\site-packages\\pandas\\io\\excel.py\u001b[0m in \u001b[0;36m__init__\u001b[1;34m(self, io, **kwds)\u001b[0m\n\u001b[0;32m    258\u001b[0m             \u001b[0mself\u001b[0m\u001b[1;33m.\u001b[0m\u001b[0mbook\u001b[0m \u001b[1;33m=\u001b[0m \u001b[0mxlrd\u001b[0m\u001b[1;33m.\u001b[0m\u001b[0mopen_workbook\u001b[0m\u001b[1;33m(\u001b[0m\u001b[0mfile_contents\u001b[0m\u001b[1;33m=\u001b[0m\u001b[0mdata\u001b[0m\u001b[1;33m)\u001b[0m\u001b[1;33m\u001b[0m\u001b[0m\n\u001b[0;32m    259\u001b[0m         \u001b[1;32melif\u001b[0m \u001b[0misinstance\u001b[0m\u001b[1;33m(\u001b[0m\u001b[0mio\u001b[0m\u001b[1;33m,\u001b[0m \u001b[0mcompat\u001b[0m\u001b[1;33m.\u001b[0m\u001b[0mstring_types\u001b[0m\u001b[1;33m)\u001b[0m\u001b[1;33m:\u001b[0m\u001b[1;33m\u001b[0m\u001b[0m\n\u001b[1;32m--> 260\u001b[1;33m             \u001b[0mself\u001b[0m\u001b[1;33m.\u001b[0m\u001b[0mbook\u001b[0m \u001b[1;33m=\u001b[0m \u001b[0mxlrd\u001b[0m\u001b[1;33m.\u001b[0m\u001b[0mopen_workbook\u001b[0m\u001b[1;33m(\u001b[0m\u001b[0mio\u001b[0m\u001b[1;33m)\u001b[0m\u001b[1;33m\u001b[0m\u001b[0m\n\u001b[0m\u001b[0;32m    261\u001b[0m         \u001b[1;32melse\u001b[0m\u001b[1;33m:\u001b[0m\u001b[1;33m\u001b[0m\u001b[0m\n\u001b[0;32m    262\u001b[0m             raise ValueError('Must explicitly set engine if not passing in'\n",
      "\u001b[1;32mC:\\ProgramData\\Anaconda3\\lib\\site-packages\\xlrd\\__init__.py\u001b[0m in \u001b[0;36mopen_workbook\u001b[1;34m(filename, logfile, verbosity, use_mmap, file_contents, encoding_override, formatting_info, on_demand, ragged_rows)\u001b[0m\n\u001b[0;32m    114\u001b[0m         \u001b[0mpeek\u001b[0m \u001b[1;33m=\u001b[0m \u001b[0mfile_contents\u001b[0m\u001b[1;33m[\u001b[0m\u001b[1;33m:\u001b[0m\u001b[0mpeeksz\u001b[0m\u001b[1;33m]\u001b[0m\u001b[1;33m\u001b[0m\u001b[0m\n\u001b[0;32m    115\u001b[0m     \u001b[1;32melse\u001b[0m\u001b[1;33m:\u001b[0m\u001b[1;33m\u001b[0m\u001b[0m\n\u001b[1;32m--> 116\u001b[1;33m         \u001b[1;32mwith\u001b[0m \u001b[0mopen\u001b[0m\u001b[1;33m(\u001b[0m\u001b[0mfilename\u001b[0m\u001b[1;33m,\u001b[0m \u001b[1;34m\"rb\"\u001b[0m\u001b[1;33m)\u001b[0m \u001b[1;32mas\u001b[0m \u001b[0mf\u001b[0m\u001b[1;33m:\u001b[0m\u001b[1;33m\u001b[0m\u001b[0m\n\u001b[0m\u001b[0;32m    117\u001b[0m             \u001b[0mpeek\u001b[0m \u001b[1;33m=\u001b[0m \u001b[0mf\u001b[0m\u001b[1;33m.\u001b[0m\u001b[0mread\u001b[0m\u001b[1;33m(\u001b[0m\u001b[0mpeeksz\u001b[0m\u001b[1;33m)\u001b[0m\u001b[1;33m\u001b[0m\u001b[0m\n\u001b[0;32m    118\u001b[0m     \u001b[1;32mif\u001b[0m \u001b[0mpeek\u001b[0m \u001b[1;33m==\u001b[0m \u001b[1;34mb\"PK\\x03\\x04\"\u001b[0m\u001b[1;33m:\u001b[0m \u001b[1;31m# a ZIP file\u001b[0m\u001b[1;33m\u001b[0m\u001b[0m\n",
      "\u001b[1;31mFileNotFoundError\u001b[0m: [Errno 2] No such file or directory: './source/Board.xlsx'"
     ]
    }
   ],
   "source": [
    "board_qty = 10\n",
    "IOC = \"../source/Board.xlsx\"\n",
    "SHEETNAMEC = \"Schematic1\"\n",
    "path = \"D:\\SPIDER\\chromedriver.exe\"\n",
    "bom = pd.read_excel(io=IOC, sheetname=SHEETNAMEC)\n",
    "bom.head(1)\n",
    "\n",
    "exclude = pd.read_excel(io=\"../source/常规用贴片清单.xlsx\", sheetname=\"Sheet1\")\n",
    "\n",
    "dest = pd.DataFrame()\n",
    "material_name = \"../dest/auto_process.xlsx\"\n",
    "standard_dest = pd.DataFrame()\n",
    "standard_material_name = \"../dest/标准件.xlsx\"\n",
    "custom_dest = pd.DataFrame()\n",
    "custom_material_name = \"../dest/定制件.xlsx\"\n",
    "other_dest = pd.DataFrame()\n",
    "other_material_name = \"../dest/已有物料.xlsx\""
   ]
  },
  {
   "cell_type": "code",
   "execution_count": null,
   "metadata": {
    "scrolled": true,
    "slideshow": {
     "slide_type": "notes"
    }
   },
   "outputs": [],
   "source": [
    "option = webdriver.ChromeOptions()\n",
    "#option.add_extension('D:\\SPIDER\\LazyTestElementsExtractor.crx')\n",
    "#option.add_argument('--user-data-dir=C:\\Users\\Administrator\\AppData\\Local\\Google\\Chrome\\User Data')\n",
    "browser=webdriver.Chrome(executable_path=path,chrome_options=option)\n",
    "try:\n",
    "    browser.get(web_location[\"home_page\"])\n",
    "    print(\"handle = \", browser.window_handles)\n",
    "    wait = WebDriverWait(browser, 120)\n",
    "    wait.until(lambda ele: ele.find_element_by_id(web_location[\"id_globalSearch\"]))\n",
    "    i = 1\n",
    "    for index, columns in bom.iterrows():\n",
    "        part_number, qty, need_part_qty, ref_designer = calc_need_qty(columns, board_qty)\n",
    "        \n",
    "        input = browser.find_element_by_id(web_location[\"id_globalSearch\"])\n",
    "        input.send_keys(part_number)\n",
    "        input.send_keys(Keys.ENTER)\n",
    "        check_store_click(browser, web_location[\"text_inquire_shenzhen\"], wait)\n",
    "        \n",
    "        handle = browser.window_handles\n",
    "        browser.switch_to_window(handle[1])\n",
    "        part_number_shenzhen, making_shenzhen, on_road_shenzhen, on_store_shenzhen = store_find(browser, wait)\n",
    "        browser.close()\n",
    "        \n",
    "        handle = browser.window_handles\n",
    "        browser.switch_to_window(handle[0])\n",
    "        check_store_click(browser, web_location[\"text_inquire_songgang\"], wait)\n",
    "        \n",
    "        handle = browser.window_handles\n",
    "        browser.switch_to_window(handle[1])\n",
    "        part_number_songgang, making_songgang, on_road_songgang, on_store_songgang = store_find(browser, wait)\n",
    "        browser.close()\n",
    "        \n",
    "        handle = browser.window_handles\n",
    "        browser.switch_to_window(handle[0])\n",
    "        \n",
    "        part_number_c, description, supplier_num_str = add_specification(browser, wait)\n",
    "        \n",
    "        supplier_num = int(supplier_num_str[-6:-5])\n",
    "        supplier = \"\"\n",
    "        model = \"\"\n",
    "        rohs = \"\"\n",
    "        grades = \"\"\n",
    "        for tr_num in range(1, 1+supplier_num):\n",
    "            supplier_xpath = '//*[@id=\"report.projectlycle.list\"]/tbody[2]/tr[' + str(tr_num) + ']/td[1]/div/span'\n",
    "            model_xpath = '//*[@id=\"report.projectlycle.list\"]/tbody[2]/tr[' + str(tr_num) + ']/td[3]/div/span'\n",
    "            rohs_xpath = '//*[@id=\"report.projectlycle.list\"]/tbody[2]/tr[' + str(tr_num) + ']/td[4]/div/span'\n",
    "            kid_xpath = '//*[@id=\"report.projectlycle.list\"]/tbody[2]/tr[' + str(tr_num) + ']/td[5]/div/span'\n",
    "                         \n",
    "            kid = (browser.find_element_by_xpath(kid_xpath).text)[0:1]\n",
    "            if kid == \"A\" or kid == \"B\" or kid == \"C\":\n",
    "                supplier += browser.find_element_by_xpath(supplier_xpath).text + \";\"\n",
    "                model += browser.find_element_by_xpath(model_xpath).text + \";\"                                \n",
    "                rohs += browser.find_element_by_xpath(rohs_xpath).text + \";\"\n",
    "            grades += kid + \";\"\n",
    "\n",
    "        print(str(i) + \"   \" + str(part_number) + \"   \" + str(description))\n",
    "        if (part_number == part_number_shenzhen == part_number_c) and (part_number == part_number_songgang):\n",
    "            if (on_store_songgang - making_songgang) > (need_part_qty+100):\n",
    "                store_setted = \"光伏松岗\"\n",
    "            elif (on_store_shenzhen - making_shenzhen) > (need_part_qty+100):\n",
    "                store_setted = \"深圳\"           \n",
    "            else:\n",
    "                store_setted = \"全无库存\"\n",
    "                \n",
    "            series = pd.Series([part_number, description, \n",
    "                                model, supplier, \"EACH\", \n",
    "                                qty, ref_designer, need_part_qty,\n",
    "                                making_shenzhen, on_road_shenzhen, on_store_shenzhen,\n",
    "                                making_songgang, on_road_songgang, on_store_songgang,\n",
    "                                grades, store_setted, rohs])\n",
    "            \n",
    "        else:\n",
    "            series = pd.Series([\"error\"])\n",
    "        #print(series)\n",
    "\n",
    "        dest, standard_dest, custom_dest, other_dest = custom_standard_split(part_number, \n",
    "                                                                             dest, standard_dest, custom_dest, other_dest, \n",
    "                                                                              standard_made_list, custom_made_list, series, exclude)\n",
    "       \n",
    "        i += 1       \n",
    "    saved_to_excel(dest, standard_dest, custom_dest, other_dest, \n",
    "                   material_name, standard_material_name, custom_material_name, other_material_name)\n",
    "    dest\n",
    "\n",
    "#finally:\n",
    "#    pass\n",
    "except Exception as e:\n",
    "    saved_to_excel(dest, standard_dest, custom_dest, other_dest, \n",
    "                   material_name, standard_material_name, custom_material_name, other_material_name)\n",
    "    print(\"invalid part number: \\033[1;32m \" + str(part_number) + \"\\033[0m\" + str('\\n') + str(e))"
   ]
  },
  {
   "cell_type": "markdown",
   "metadata": {},
   "source": [
    "* **不能将pdm里没有的料号加载,否则会引发异常**\n",
    "* **异常引发后要保存数据**"
   ]
  },
  {
   "cell_type": "code",
   "execution_count": null,
   "metadata": {
    "slideshow": {
     "slide_type": "notes"
    }
   },
   "outputs": [],
   "source": [
    "'''\n",
    "dest.to_excel(\"./auto_save_store.xlsx\")\n",
    "\n",
    "a = bom[[\"Part Number\", \"QTY\"]]\n",
    "for i, j in bom.iterrows():\n",
    "    #print(\"i = \", i)\n",
    "   # print(\"j = \", j)\n",
    "    print(j[\"Part Number\"])\n",
    "    print(j[\"QTY\"])\n",
    "    \n",
    "j\n",
    "'''"
   ]
  },
  {
   "cell_type": "code",
   "execution_count": null,
   "metadata": {},
   "outputs": [],
   "source": [
    "model"
   ]
  },
  {
   "cell_type": "code",
   "execution_count": null,
   "metadata": {},
   "outputs": [],
   "source": [
    "s = \"123,456\"\n",
    "print(s.replace(',', ''))"
   ]
  },
  {
   "cell_type": "code",
   "execution_count": null,
   "metadata": {},
   "outputs": [],
   "source": [
    "\"20001-00001\" in list(exclude[\"Part Number\"])"
   ]
  },
  {
   "cell_type": "code",
   "execution_count": null,
   "metadata": {},
   "outputs": [],
   "source": [
    "\n",
    "#while(1):\n",
    "print(\"1\")"
   ]
  },
  {
   "cell_type": "code",
   "execution_count": null,
   "metadata": {
    "collapsed": true
   },
   "outputs": [],
   "source": []
  }
 ],
 "metadata": {
  "kernelspec": {
   "display_name": "Python 3",
   "language": "python",
   "name": "python3"
  },
  "language_info": {
   "codemirror_mode": {
    "name": "ipython",
    "version": 3
   },
   "file_extension": ".py",
   "mimetype": "text/x-python",
   "name": "python",
   "nbconvert_exporter": "python",
   "pygments_lexer": "ipython3",
   "version": "3.6.2"
  }
 },
 "nbformat": 4,
 "nbformat_minor": 2
}
