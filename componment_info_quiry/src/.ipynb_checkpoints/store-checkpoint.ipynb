{
 "cells": [
  {
   "cell_type": "code",
   "execution_count": 1,
   "metadata": {
    "collapsed": true
   },
   "outputs": [],
   "source": [
    "# -*- coding: utf-8 -*-\n",
    "from selenium import webdriver\n",
    "from selenium.webdriver.common.by import By\n",
    "from selenium.webdriver.common.keys import Keys\n",
    "from selenium.webdriver.support import expected_conditions as EC\n",
    "from selenium.webdriver.support.wait import WebDriverWait\n",
    "from selenium.webdriver.support.select import Select\n",
    "import time\n",
    "import pandas as pd\n",
    "import os\n",
    "from base import *"
   ]
  },
  {
   "cell_type": "code",
   "execution_count": 2,
   "metadata": {
    "collapsed": true
   },
   "outputs": [],
   "source": [
    "def my_test(a, b):\n",
    "    return a + b\n",
    "#bom['Value'] = bom.apply(bom, axis = 0, args = (\"Part_Number\", \"QTY\"))\n",
    "#for qty, part_number in bom['Value']:\n",
    "#    print(part_number, qty)\n",
    "#a = pd.Series([bom[\"QTY\"],bom[\"Part_Number\"]])\n",
    "#bom.columns()"
   ]
  },
  {
   "cell_type": "code",
   "execution_count": 4,
   "metadata": {},
   "outputs": [],
   "source": [
    "board_qty = 10\n",
    "smd_round_up = 50\n",
    "IOC = \"../source/Board.xlsx\"\n",
    "SHEETNAMEC = \"Schematic1\"\n",
    "path = \"D:\\SPIDER\\chromedriver.exe\"\n",
    "bom = pd.read_excel(io=IOC, sheetname=SHEETNAMEC)\n",
    "bom.head(1)\n",
    "\n",
    "exclude = pd.read_excel(io=\"../source/常规用贴片清单.xlsx\", sheetname=\"Sheet1\")\n",
    "\n",
    "dest = pd.DataFrame()\n",
    "material_name = \"../dest/auto_process.xlsx\"\n",
    "standard_dest = pd.DataFrame()\n",
    "standard_material_name = \"../dest/标准件.xlsx\"\n",
    "custom_dest = pd.DataFrame()\n",
    "custom_material_name = \"../dest/定制件.xlsx\"\n",
    "other_dest = pd.DataFrame()\n",
    "other_material_name = \"../dest/已有物料.xlsx\""
   ]
  },
  {
   "cell_type": "code",
   "execution_count": null,
   "metadata": {
    "scrolled": false,
    "slideshow": {
     "slide_type": "notes"
    }
   },
   "outputs": [],
   "source": [
    "option = webdriver.ChromeOptions()\n",
    "#option.add_extension('D:\\SPIDER\\LazyTestElementsExtractor.crx')\n",
    "#option.add_argument('--user-data-dir=C:\\Users\\Administrator\\AppData\\Local\\Google\\Chrome\\User Data')\n",
    "browser=webdriver.Chrome(executable_path=path,chrome_options=option)\n",
    "try:\n",
    "    browser.get(web_location[\"home_page\"])\n",
    "    print(\"handle = \", browser.window_handles)\n",
    "    wait = WebDriverWait(browser, 120)\n",
    "    wait.until(lambda ele: ele.find_element_by_id(web_location[\"id_globalSearch\"]))\n",
    "    i = 1\n",
    "    for index, columns in bom.iterrows():\n",
    "        part_number, qty, need_part_qty, ref_designer = calc_need_qty(columns, board_qty, smd_round_up)\n",
    "        time.sleep(1)\n",
    "        input = browser.find_element_by_id(web_location[\"id_globalSearch\"])\n",
    "        input.send_keys(part_number)\n",
    "        input.send_keys(Keys.ENTER)\n",
    "        check_store_click(browser, web_location[\"text_inquire_shenzhen\"], wait)\n",
    "        \n",
    "        handle = browser.window_handles\n",
    "        browser.switch_to_window(handle[1])\n",
    "        part_number_shenzhen, making_shenzhen, on_road_shenzhen, on_store_shenzhen = store_find(browser, wait)\n",
    "        browser.close()\n",
    "        \n",
    "        handle = browser.window_handles\n",
    "        browser.switch_to_window(handle[0])\n",
    "        check_store_click(browser, web_location[\"text_inquire_songgang\"], wait)\n",
    "        \n",
    "        handle = browser.window_handles\n",
    "        browser.switch_to_window(handle[1])\n",
    "        part_number_songgang, making_songgang, on_road_songgang, on_store_songgang = store_find(browser, wait)\n",
    "        browser.close()\n",
    "        \n",
    "        handle = browser.window_handles\n",
    "        browser.switch_to_window(handle[0])\n",
    "        time.sleep(1)\n",
    "        part_number_c, description, supplier_num_str = add_specification(browser, wait)\n",
    "        \n",
    "        supplier_num = int(supplier_num_str[-6:-5])\n",
    "        supplier = \"\"\n",
    "        model = \"\"\n",
    "        rohs = \"\"\n",
    "        grades = \"\"\n",
    "        for tr_num in range(1, 1+supplier_num):\n",
    "            supplier_xpath = '//*[@id=\"report.projectlycle.list\"]/tbody[2]/tr[' + str(tr_num) + ']/td[1]/div/span'\n",
    "            model_xpath = '//*[@id=\"report.projectlycle.list\"]/tbody[2]/tr[' + str(tr_num) + ']/td[3]/div/span'\n",
    "            rohs_xpath = '//*[@id=\"report.projectlycle.list\"]/tbody[2]/tr[' + str(tr_num) + ']/td[4]/div/span'\n",
    "            kid_xpath = '//*[@id=\"report.projectlycle.list\"]/tbody[2]/tr[' + str(tr_num) + ']/td[5]/div/span'\n",
    "                         \n",
    "            kid = (browser.find_element_by_xpath(kid_xpath).text)[0:1]\n",
    "            if kid == \"A\" or kid == \"B\" or kid == \"C\":\n",
    "                supplier += browser.find_element_by_xpath(supplier_xpath).text + \";\"\n",
    "                model += browser.find_element_by_xpath(model_xpath).text + \";\"   \n",
    "                time.sleep(1)\n",
    "                rohs += browser.find_element_by_xpath(rohs_xpath).text + \";\"\n",
    "            grades += kid + \";\"\n",
    "\n",
    "        print(str(i) + \"   \" + str(part_number) + \"   \" + str(description))\n",
    "        if (part_number == part_number_shenzhen == part_number_c) and (part_number == part_number_songgang):\n",
    "            if (on_store_songgang - making_songgang) > (int)(need_part_qty+100):\n",
    "                store_setted = \"光伏松岗\"\n",
    "            elif (on_store_shenzhen - making_shenzhen) > (int)(need_part_qty+100):\n",
    "                store_setted = \"深圳\"           \n",
    "            else:\n",
    "                store_setted = \"全无库存\"\n",
    "                \n",
    "            series = pd.Series([part_number, description, \n",
    "                                model, supplier, \"EACH\", \n",
    "                                qty, ref_designer, need_part_qty,\n",
    "                                making_shenzhen, on_road_shenzhen, on_store_shenzhen,\n",
    "                                making_songgang, on_road_songgang, on_store_songgang,\n",
    "                                grades, store_setted, rohs])\n",
    "            \n",
    "        else:\n",
    "            series = pd.Series([\"error\"])\n",
    "        #print(series)\n",
    "\n",
    "        dest, standard_dest, custom_dest, other_dest = custom_standard_split(part_number, \n",
    "                                                                             dest, standard_dest, custom_dest, other_dest, \n",
    "                                                                              standard_made_list, custom_made_list, series, exclude)\n",
    "       \n",
    "        i += 1       \n",
    "    saved_to_excel(dest, standard_dest, custom_dest, other_dest, \n",
    "                   material_name, standard_material_name, custom_material_name, other_material_name)\n",
    "    dest\n",
    "\n",
    "finally:\n",
    "    pass\n",
    "#except Exception as e:\n",
    "#    saved_to_excel(dest, standard_dest, custom_dest, other_dest, \n",
    " #                  material_name, standard_material_name, custom_material_name, other_material_name)\n",
    " #   print(\"invalid part number: \\033[1;32m \" + str(part_number) + \"\\033[0m\" + str('\\n') + str(e))"
   ]
  },
  {
   "cell_type": "markdown",
   "metadata": {},
   "source": [
    "* **不能将pdm里没有的料号加载,否则会引发异常**\n",
    "* **异常引发后要保存数据**"
   ]
  },
  {
   "cell_type": "code",
   "execution_count": null,
   "metadata": {
    "slideshow": {
     "slide_type": "notes"
    }
   },
   "outputs": [],
   "source": [
    "'''\n",
    "dest.to_excel(\"./auto_save_store.xlsx\")\n",
    "\n",
    "a = bom[[\"Part Number\", \"QTY\"]]\n",
    "for i, j in bom.iterrows():\n",
    "    #print(\"i = \", i)\n",
    "   # print(\"j = \", j)\n",
    "    print(j[\"Part Number\"])\n",
    "    print(j[\"QTY\"])\n",
    "    \n",
    "j\n",
    "'''"
   ]
  },
  {
   "cell_type": "code",
   "execution_count": null,
   "metadata": {
    "collapsed": true
   },
   "outputs": [],
   "source": [
    "saved_to_excel(dest, standard_dest, custom_dest, other_dest, \n",
    "                  material_name, standard_material_name, custom_material_name, other_material_name)"
   ]
  },
  {
   "cell_type": "code",
   "execution_count": null,
   "metadata": {},
   "outputs": [],
   "source": [
    "s = \"123,456\"\n",
    "print(s.replace(',', ''))"
   ]
  },
  {
   "cell_type": "code",
   "execution_count": null,
   "metadata": {},
   "outputs": [],
   "source": [
    "\"20001-00001\" in list(exclude[\"Part Number\"])"
   ]
  }
 ],
 "metadata": {
  "kernelspec": {
   "display_name": "Python 3",
   "language": "python",
   "name": "python3"
  },
  "language_info": {
   "codemirror_mode": {
    "name": "ipython",
    "version": 3
   },
   "file_extension": ".py",
   "mimetype": "text/x-python",
   "name": "python",
   "nbconvert_exporter": "python",
   "pygments_lexer": "ipython3",
   "version": "3.6.2"
  }
 },
 "nbformat": 4,
 "nbformat_minor": 2
}
