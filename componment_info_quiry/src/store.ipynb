{
 "cells": [
  {
   "cell_type": "code",
   "execution_count": 1,
   "metadata": {
    "collapsed": true
   },
   "outputs": [],
   "source": [
    "# -*- coding: utf-8 -*-\n",
    "from selenium import webdriver\n",
    "from selenium.webdriver.common.by import By\n",
    "from selenium.webdriver.common.keys import Keys\n",
    "from selenium.webdriver.support import expected_conditions as EC\n",
    "from selenium.webdriver.support.wait import WebDriverWait\n",
    "from selenium.webdriver.support.select import Select\n",
    "import time\n",
    "import pandas as pd\n",
    "import os\n",
    "from base import *"
   ]
  },
  {
   "cell_type": "code",
   "execution_count": 2,
   "metadata": {
    "collapsed": true
   },
   "outputs": [],
   "source": [
    "def my_test(a, b):\n",
    "    return a + b\n",
    "#bom['Value'] = bom.apply(bom, axis = 0, args = (\"Part_Number\", \"QTY\"))\n",
    "#for qty, part_number in bom['Value']:\n",
    "#    print(part_number, qty)\n",
    "#a = pd.Series([bom[\"QTY\"],bom[\"Part_Number\"]])\n",
    "#bom.columns()"
   ]
  },
  {
   "cell_type": "code",
   "execution_count": 4,
   "metadata": {},
   "outputs": [],
   "source": [
    "board_qty = 10\n",
    "IOC = \"../source/Board.xlsx\"\n",
    "SHEETNAMEC = \"Schematic1\"\n",
    "path = \"D:\\SPIDER\\chromedriver.exe\"\n",
    "bom = pd.read_excel(io=IOC, sheetname=SHEETNAMEC)\n",
    "bom.head(1)\n",
    "\n",
    "exclude = pd.read_excel(io=\"../source/常规用贴片清单.xlsx\", sheetname=\"Sheet1\")\n",
    "\n",
    "dest = pd.DataFrame()\n",
    "material_name = \"../dest/auto_process.xlsx\"\n",
    "standard_dest = pd.DataFrame()\n",
    "standard_material_name = \"../dest/标准件.xlsx\"\n",
    "custom_dest = pd.DataFrame()\n",
    "custom_material_name = \"../dest/定制件.xlsx\"\n",
    "other_dest = pd.DataFrame()\n",
    "other_material_name = \"../dest/已有物料.xlsx\""
   ]
  },
  {
   "cell_type": "code",
   "execution_count": 5,
   "metadata": {
    "scrolled": true,
    "slideshow": {
     "slide_type": "notes"
    }
   },
   "outputs": [
    {
     "name": "stdout",
     "output_type": "stream",
     "text": [
      "handle =  ['CDwindow-C29E3532472BECB8D1CAE85FC321866B']\n",
      "1   20001-00003   片状电阻;1/10W-100Ω±1%-0603;RoHS\n",
      "part number in exclude: \u001b[1;32m 20001-00003\u001b[0m\n",
      "2   20001-00004   片状电阻;1/10W-1KΩ±1%-0603;RoHS\n",
      "part number in exclude: \u001b[1;32m 20001-00004\u001b[0m\n",
      "3   20001-00005   片状电阻;1/10W-10KΩ±1%-0603;RoHS\n",
      "part number in exclude: \u001b[1;32m 20001-00005\u001b[0m\n",
      "4   20001-00013   片状电阻;1/10;12k;±1%;0603;RoHS\n",
      "5   20001-00017   片状电阻;1/10W-1.5KΩ±1%-0603;RoHS\n",
      "6   20001-00018   片状电阻;1/10W-15KΩ±1%-0603;RoHS\n",
      "part number in exclude: \u001b[1;32m 20001-00018\u001b[0m\n",
      "7   20001-00025   片状电阻;1/10W-200Ω±1%-0603;RoHS\n",
      "part number in exclude: \u001b[1;32m 20001-00025\u001b[0m\n",
      "8   20001-00026   片状电阻;1/10W-2KΩ±1%-0603;RoHS\n",
      "part number in exclude: \u001b[1;32m 20001-00026\u001b[0m\n",
      "9   20001-00030   片状电阻;1/10W-2.2KΩ±1%-0603;RoHS\n",
      "10   20001-00037   片状电阻;1/10W-3KΩ±1%-0603;RoHS\n",
      "part number in exclude: \u001b[1;32m 20001-00037\u001b[0m\n",
      "11   20001-00041   片状电阻;1/10W-3.3KΩ±1%-0603;RoHS\n",
      "12   20001-00051   片状电阻;1/10W-4.7KΩ±1%-0603;RoHS\n",
      "part number in exclude: \u001b[1;32m 20001-00051\u001b[0m\n",
      "13   20001-00058   片状电阻;1/10W-510KΩ±1%-0603;RoHS\n",
      "14   20001-00066   片状电阻;1/10W;6.8kΩ;±1%;0603;RoHS\n",
      "15   20001-00118   片状电阻;1/8W;1MΩ;±1%;0805;RoHS\n",
      "16   20001-00167   片状电阻;1/8W- 51kΩ±1%-0805;RoHS\n",
      "17   20001-00292   片状电阻;1/4W-270KΩ±1%-1206;RoHS\n",
      "18   20001-00314   片状电阻;1/10W-49.9KΩ±1%-0603;RoHS\n",
      "19   20001-00345   片状电阻;1/8W-5.1Ω±1％-0805;RoHS\n",
      "20   20001-00455   片状电阻;1/4W;1kΩ±1%;1206;RoHS\n",
      "part number in exclude: \u001b[1;32m 20001-00455\u001b[0m\n",
      "21   20001-00480   片状电阻;1/4W;30Ω±1%;1206;RoHS\n",
      "22   20001-00856   片状电阻;1/10W;24Ω;±1%;0603;RoHS;汽车级\n",
      "23   20005-00066   热敏电阻;NTC;10kΩ;0805;B=3435K;RoHS\n",
      "24   21001-00124   超级电容;0.47F±30%/5.5V/PIN距5mm/21.5*8;RoHS\n",
      "25   21002-00006   贴片电解电容;16V-100μF±20%-6.3*5.7-105℃,RoHS\n",
      "26   21002-00012   贴片电解电容;25VDC;100uF;±20%;6.3*8mm;-55℃～+105 ℃;2000h/105 ℃;RoHS\n",
      "27   21002-00030   贴片电解电容;16V;220uF;±20%;尺寸6.3*7.7mm;-55℃～105℃;1000h/105℃;RoHS\n",
      "28   21002-00033   贴片电解电容;25VDC;220uF;±20%;尺寸8*10mm;-40℃～125℃;2000h/125℃;RoHS\n",
      "29   21003-00004   片状电容;2.2uF±10%-16V-0805-X7R;RoHS\n",
      "part number in exclude: \u001b[1;32m 21003-00004\u001b[0m\n",
      "30   21003-00041   片状电容;50V;1nF;±10%;X7R;0603;RoHS\n",
      "part number in exclude: \u001b[1;32m 21003-00041\u001b[0m\n",
      "31   21003-00042   片状电容;10nF±10%-50V-0603-X7R;RoHS\n",
      "part number in exclude: \u001b[1;32m 21003-00042\u001b[0m\n",
      "32   21003-00043   片状电容;100nF±10%-50V-0603-X7R;RoHS\n",
      "part number in exclude: \u001b[1;32m 21003-00043\u001b[0m\n",
      "33   21003-00051   片状电容;20pF±5%-50V-0603-NPO;RoHS\n",
      "34   21003-00055   片状电容;25V;1uF;10%;X7R;0603;RoHS\n",
      "35   21003-00116   片状陶瓷电容器;50V;22pF±5%;NPO;0603;0.9mm;ROHS\n",
      "36   21003-00124   片状电容;50VDC;10uF;±10%;X5R;1206;RoHS\n",
      "37   21003-00171   片状电容;50V;5pF;±0.5%;NPO;0603;RoHS\n",
      "38   21003-00206   片状电容;100V;1uF;10%;X7R;1206;RoHS\n",
      "39   21003-00263   片状电容;50V;100pF;±5%;NPO;0603;汽车级;RoHS\n",
      "40   22001-00011   整流二极管;100V;200mA;0.82V;SOT23;RoHS\n",
      "41   22002-00016   稳压二极管;5.1@Izt=5mA;0.225;SOT-23;RoHS\n",
      "42   22005-00007   肖特基二极管;30V,200mA;SOT-23;RoHS\n",
      "43   22005-00020   肖特基二极管;30V;0.2A;0.33V;SOD-123;RoHS\n",
      "44   22006-00021   发光二极管;绿色;15mcd;贴片;RoHS\n",
      "45   22007-00013   贴片NPN三极管;40V/0.6A/225mW/SOT-23;RoHS\n",
      "part number in exclude: \u001b[1;32m 22007-00013\u001b[0m\n",
      "46   22007-00014   贴片PNP三极管;40V/0.6A/225mW/SOT-23;RoHS\n",
      "part number in exclude: \u001b[1;32m 22007-00014\u001b[0m\n",
      "47   22007-00021   PNP三极管;-60.0;-5.0;SC-63;RoHS\n",
      "48   22010-00003   晶振;12MHz;±20ppm;SMD3225;RoHS\n",
      "49   22010-00023   晶振;32.768KHZ;±20ppm;3215;RoHS\n",
      "50   22010-00024   晶振;20.000MHz;20ppm;SMD3225;RoHS\n",
      "51   23002-00026   存储器;1.8~5.5V;32K SPI serial CMOS EEPROM;SOIC-8;RoHS\n",
      "52   23003-00070   逻辑电路;时钟芯片;-40~85℃(工业级）;SOIC-8;RoHS\n",
      "53   23003-00218   逻辑电路;缓冲器/驱动器;八路/3态输出;TSSOP-20;引脚一边输入/一边输出;RoHS\n",
      "54   23003-00255   逻辑电路;模拟开关/多路复用器;SOIC;RoHS\n",
      "55   23004-00028   达林顿组;ULN2003ADR;SOIC-16;RoHS\n",
      "56   23004-00042   电压基准源;VREF2.5V/1%/SOT-23;RoHS\n",
      "57   23004-00103   电压基准;VREF3V/0.2%/SOT-23;RoHS\n",
      "58   23004-00106   线性电路;四运放;-15～+15 V;SO-14;RoHS\n",
      "59   23004-00446   线性电路;三端稳压器;0.8A;3.3V;Vin:2.6~15V;15V;TO252-3;RoHS\n",
      "60   25011-00010   EMI磁珠、磁环;磁珠;500 Ω;0.25;2.2*1.4*1.1 mm;RoHS\n",
      "61   36001-00017   排针（方脚）;2P/单排/直脚/PIN距2.54mm/脚总长11.54mm;RoHS\n",
      "62   36002-00018   白色连接器;2P/直脚/PIN距2.50mm/打K脚;RoHS\n",
      "63   36002-00022   插座/连接器;白色连接器;1*6PIN;插座;直脚;PCB焊接型;3.6 mm;PIN距2.5mm;打K脚;RoHS\n",
      "64   36002-00023   插座/连接器;白色连接器;8pin;直脚;PCB焊接型;PIN距2.5mm;打K脚;RoHS\n",
      "65   36002-00114   白色连接器;4P/PIN距2.50mm/直脚/打K脚;RoHS\n"
     ]
    }
   ],
   "source": [
    "option = webdriver.ChromeOptions()\n",
    "#option.add_extension('D:\\SPIDER\\LazyTestElementsExtractor.crx')\n",
    "#option.add_argument('--user-data-dir=C:\\Users\\Administrator\\AppData\\Local\\Google\\Chrome\\User Data')\n",
    "browser=webdriver.Chrome(executable_path=path,chrome_options=option)\n",
    "try:\n",
    "    browser.get(web_location[\"home_page\"])\n",
    "    print(\"handle = \", browser.window_handles)\n",
    "    wait = WebDriverWait(browser, 120)\n",
    "    wait.until(lambda ele: ele.find_element_by_id(web_location[\"id_globalSearch\"]))\n",
    "    i = 1\n",
    "    for index, columns in bom.iterrows():\n",
    "        part_number, qty, need_part_qty, ref_designer = calc_need_qty(columns, board_qty)\n",
    "        \n",
    "        input = browser.find_element_by_id(web_location[\"id_globalSearch\"])\n",
    "        input.send_keys(part_number)\n",
    "        input.send_keys(Keys.ENTER)\n",
    "        check_store_click(browser, web_location[\"text_inquire_shenzhen\"], wait)\n",
    "        \n",
    "        handle = browser.window_handles\n",
    "        browser.switch_to_window(handle[1])\n",
    "        part_number_shenzhen, making_shenzhen, on_road_shenzhen, on_store_shenzhen = store_find(browser, wait)\n",
    "        browser.close()\n",
    "        \n",
    "        handle = browser.window_handles\n",
    "        browser.switch_to_window(handle[0])\n",
    "        check_store_click(browser, web_location[\"text_inquire_songgang\"], wait)\n",
    "        \n",
    "        handle = browser.window_handles\n",
    "        browser.switch_to_window(handle[1])\n",
    "        part_number_songgang, making_songgang, on_road_songgang, on_store_songgang = store_find(browser, wait)\n",
    "        browser.close()\n",
    "        \n",
    "        handle = browser.window_handles\n",
    "        browser.switch_to_window(handle[0])\n",
    "        \n",
    "        part_number_c, description, supplier_num_str = add_specification(browser, wait)\n",
    "        \n",
    "        supplier_num = int(supplier_num_str[-6:-5])\n",
    "        supplier = \"\"\n",
    "        model = \"\"\n",
    "        rohs = \"\"\n",
    "        grades = \"\"\n",
    "        for tr_num in range(1, 1+supplier_num):\n",
    "            supplier_xpath = '//*[@id=\"report.projectlycle.list\"]/tbody[2]/tr[' + str(tr_num) + ']/td[1]/div/span'\n",
    "            model_xpath = '//*[@id=\"report.projectlycle.list\"]/tbody[2]/tr[' + str(tr_num) + ']/td[3]/div/span'\n",
    "            rohs_xpath = '//*[@id=\"report.projectlycle.list\"]/tbody[2]/tr[' + str(tr_num) + ']/td[4]/div/span'\n",
    "            kid_xpath = '//*[@id=\"report.projectlycle.list\"]/tbody[2]/tr[' + str(tr_num) + ']/td[5]/div/span'\n",
    "                         \n",
    "            kid = (browser.find_element_by_xpath(kid_xpath).text)[0:1]\n",
    "            if kid == \"A\" or kid == \"B\" or kid == \"C\":\n",
    "                supplier += browser.find_element_by_xpath(supplier_xpath).text + \";\"\n",
    "                model += browser.find_element_by_xpath(model_xpath).text + \";\"                                \n",
    "                rohs += browser.find_element_by_xpath(rohs_xpath).text + \";\"\n",
    "            grades += kid + \";\"\n",
    "\n",
    "        print(str(i) + \"   \" + str(part_number) + \"   \" + str(description))\n",
    "        if (part_number == part_number_shenzhen == part_number_c) and (part_number == part_number_songgang):\n",
    "            if (on_store_songgang - making_songgang) > (need_part_qty+100):\n",
    "                store_setted = \"光伏松岗\"\n",
    "            elif (on_store_shenzhen - making_shenzhen) > (need_part_qty+100):\n",
    "                store_setted = \"深圳\"           \n",
    "            else:\n",
    "                store_setted = \"全无库存\"\n",
    "                \n",
    "            series = pd.Series([part_number, description, \n",
    "                                model, supplier, \"EACH\", \n",
    "                                qty, ref_designer, need_part_qty,\n",
    "                                making_shenzhen, on_road_shenzhen, on_store_shenzhen,\n",
    "                                making_songgang, on_road_songgang, on_store_songgang,\n",
    "                                grades, store_setted, rohs])\n",
    "            \n",
    "        else:\n",
    "            series = pd.Series([\"error\"])\n",
    "        #print(series)\n",
    "\n",
    "        dest, standard_dest, custom_dest, other_dest = custom_standard_split(part_number, \n",
    "                                                                             dest, standard_dest, custom_dest, other_dest, \n",
    "                                                                              standard_made_list, custom_made_list, series, exclude)\n",
    "       \n",
    "        i += 1       \n",
    "    saved_to_excel(dest, standard_dest, custom_dest, other_dest, \n",
    "                   material_name, standard_material_name, custom_material_name, other_material_name)\n",
    "    dest\n",
    "\n",
    "#finally:\n",
    "#    pass\n",
    "except Exception as e:\n",
    "    saved_to_excel(dest, standard_dest, custom_dest, other_dest, \n",
    "                   material_name, standard_material_name, custom_material_name, other_material_name)\n",
    "    print(\"invalid part number: \\033[1;32m \" + str(part_number) + \"\\033[0m\" + str('\\n') + str(e))"
   ]
  },
  {
   "cell_type": "markdown",
   "metadata": {},
   "source": [
    "* **不能将pdm里没有的料号加载,否则会引发异常**\n",
    "* **异常引发后要保存数据**"
   ]
  },
  {
   "cell_type": "code",
   "execution_count": null,
   "metadata": {
    "slideshow": {
     "slide_type": "notes"
    }
   },
   "outputs": [],
   "source": [
    "'''\n",
    "dest.to_excel(\"./auto_save_store.xlsx\")\n",
    "\n",
    "a = bom[[\"Part Number\", \"QTY\"]]\n",
    "for i, j in bom.iterrows():\n",
    "    #print(\"i = \", i)\n",
    "   # print(\"j = \", j)\n",
    "    print(j[\"Part Number\"])\n",
    "    print(j[\"QTY\"])\n",
    "    \n",
    "j\n",
    "'''"
   ]
  },
  {
   "cell_type": "code",
   "execution_count": null,
   "metadata": {},
   "outputs": [],
   "source": [
    "model"
   ]
  },
  {
   "cell_type": "code",
   "execution_count": null,
   "metadata": {},
   "outputs": [],
   "source": [
    "s = \"123,456\"\n",
    "print(s.replace(',', ''))"
   ]
  },
  {
   "cell_type": "code",
   "execution_count": null,
   "metadata": {},
   "outputs": [],
   "source": [
    "\"20001-00001\" in list(exclude[\"Part Number\"])"
   ]
  },
  {
   "cell_type": "code",
   "execution_count": null,
   "metadata": {},
   "outputs": [],
   "source": [
    "\n",
    "#while(1):\n",
    "print(\"1\")"
   ]
  },
  {
   "cell_type": "code",
   "execution_count": null,
   "metadata": {
    "collapsed": true
   },
   "outputs": [],
   "source": []
  }
 ],
 "metadata": {
  "kernelspec": {
   "display_name": "Python 3",
   "language": "python",
   "name": "python3"
  },
  "language_info": {
   "codemirror_mode": {
    "name": "ipython",
    "version": 3
   },
   "file_extension": ".py",
   "mimetype": "text/x-python",
   "name": "python",
   "nbconvert_exporter": "python",
   "pygments_lexer": "ipython3",
   "version": "3.6.2"
  }
 },
 "nbformat": 4,
 "nbformat_minor": 2
}
