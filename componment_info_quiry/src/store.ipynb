{
 "cells": [
  {
   "cell_type": "code",
   "execution_count": 5,
   "metadata": {
    "collapsed": true
   },
   "outputs": [],
   "source": [
    "# -*- coding: utf-8 -*-\n",
    "from selenium import webdriver\n",
    "from selenium.webdriver.common.by import By\n",
    "from selenium.webdriver.common.keys import Keys\n",
    "from selenium.webdriver.support import expected_conditions as EC\n",
    "from selenium.webdriver.support.wait import WebDriverWait\n",
    "from selenium.webdriver.support.select import Select\n",
    "import time\n",
    "import pandas as pd\n",
    "import os\n",
    "from base import *"
   ]
  },
  {
   "cell_type": "code",
   "execution_count": 6,
   "metadata": {
    "collapsed": true
   },
   "outputs": [],
   "source": [
    "def my_test(a, b):\n",
    "    return a + b\n",
    "#bom['Value'] = bom.apply(bom, axis = 0, args = (\"Part_Number\", \"QTY\"))\n",
    "#for qty, part_number in bom['Value']:\n",
    "#    print(part_number, qty)\n",
    "#a = pd.Series([bom[\"QTY\"],bom[\"Part_Number\"]])\n",
    "#bom.columns()"
   ]
  },
  {
   "cell_type": "code",
   "execution_count": 7,
   "metadata": {
    "collapsed": true
   },
   "outputs": [],
   "source": [
    "board_qty = 10\n",
    "smd_round_up = 50\n",
    "IOC = \"../source/Board.xlsx\"\n",
    "SHEETNAMEC = \"Schematic1\"\n",
    "path = \"D:\\SPIDER\\chromedriver.exe\"\n",
    "bom = pd.read_excel(io=IOC, sheetname=SHEETNAMEC)\n",
    "bom.head(1)\n",
    "\n",
    "exclude = pd.read_excel(io=\"../source/常规用贴片清单.xlsx\", sheetname=\"Sheet1\")\n",
    "\n",
    "dest = pd.DataFrame()\n",
    "material_name = \"../dest/auto_process.xlsx\"\n",
    "standard_dest = pd.DataFrame()\n",
    "standard_material_name = \"../dest/标准件.xlsx\"\n",
    "custom_dest = pd.DataFrame()\n",
    "custom_material_name = \"../dest/定制件.xlsx\"\n",
    "other_dest = pd.DataFrame()\n",
    "other_material_name = \"../dest/已有物料.xlsx\""
   ]
  },
  {
   "cell_type": "code",
   "execution_count": 8,
   "metadata": {
    "scrolled": false,
    "slideshow": {
     "slide_type": "notes"
    }
   },
   "outputs": [
    {
     "name": "stdout",
     "output_type": "stream",
     "text": [
      "handle =  ['CDwindow-5150CBA42C0A449CE2ECE9ACA98BF8AE']\n",
      "1   20001-00001   片状电阻;1/10;0.0;±1%;0603;RoHS\n",
      "part number in exclude: \u001b[1;32m 20001-00001\u001b[0m\n",
      "2   20001-00002   片状电阻;1/10W-10Ω±1%-0603;RoHS\n",
      "part number in exclude: \u001b[1;32m 20001-00002\u001b[0m\n",
      "3   20001-00003   片状电阻;1/10W-100Ω±1%-0603;RoHS\n",
      "part number in exclude: \u001b[1;32m 20001-00003\u001b[0m\n",
      "4   20001-00004   片状电阻;1/10W-1KΩ±1%-0603;RoHS\n",
      "part number in exclude: \u001b[1;32m 20001-00004\u001b[0m\n",
      "5   20001-00005   片状电阻;1/10W-10KΩ±1%-0603;RoHS\n",
      "part number in exclude: \u001b[1;32m 20001-00005\u001b[0m\n",
      "6   20001-00006   片状电阻;1/10W-100KΩ±1%-0603;RoHS\n",
      "part number in exclude: \u001b[1;32m 20001-00006\u001b[0m\n",
      "7   20001-00012   片状电阻;1/10W-1.2KΩ±1%-0603;RoHS\n",
      "8   20001-00018   片状电阻;1/10W-15KΩ±1%-0603;RoHS\n",
      "part number in exclude: \u001b[1;32m 20001-00018\u001b[0m\n",
      "9   20001-00027   片状电阻;1/10W-20KΩ±1%-0603;RoHS\n",
      "part number in exclude: \u001b[1;32m 20001-00027\u001b[0m\n",
      "10   20001-00038   片状电阻;1/10W-30KΩ±1%-0603;RoHS\n",
      "part number in exclude: \u001b[1;32m 20001-00038\u001b[0m\n",
      "11   20001-00041   片状电阻;1/10W-3.3KΩ±1%-0603;RoHS\n",
      "12   20001-00051   片状电阻;1/10W-4.7KΩ±1%-0603;RoHS\n",
      "part number in exclude: \u001b[1;32m 20001-00051\u001b[0m\n",
      "13   20001-00055   片状电阻;1/10W-510Ω±1%-0603;RoHS\n",
      "part number in exclude: \u001b[1;32m 20001-00055\u001b[0m\n",
      "14   20001-00056   片状电阻;1/10W-5.1KΩ±1%-0603;RoHS\n",
      "part number in exclude: \u001b[1;32m 20001-00056\u001b[0m\n",
      "15   20001-00173   片状电阻;1/8W-6.2KΩ±1%-0805,RoHS\n",
      "16   20001-00192   片状电阻;1/4W;120Ω;±5%;1206;RoHS\n",
      "17   20001-00211   片状电阻;1/4W-1MΩ±1%-1206;RoHS\n",
      "18   20001-00463   片状电阻;1/2W;7.5Ω;±5%;1210;RoHS\n",
      "part number in exclude: \u001b[1;32m 20001-00463\u001b[0m\n",
      "19   20001-00480   片状电阻;1/4W;30Ω±1%;1206;RoHS\n",
      "20   20001-00856   片状电阻;1/10W;24Ω;±1%;0603;RoHS;汽车级\n",
      "21   21002-00030   贴片电解电容;16V;220uF;±20%;尺寸6.3*7.7mm;-55℃～105℃;1000h/105℃;RoHS\n",
      "22   21002-00033   贴片电解电容;25VDC;220uF;±20%;尺寸8*10mm;-40℃～125℃;2000h/125℃;RoHS\n",
      "23   21003-00031   片状电容;10uF±10%-16V-1206-X7R;RoHS\n",
      "24   21003-00037   片状电容;1nF±20%-2KV-1206-X7R;RoHS\n",
      "25   21003-00041   片状电容;50V;1nF;±10%;X7R;0603;RoHS\n",
      "part number in exclude: \u001b[1;32m 21003-00041\u001b[0m\n",
      "26   21003-00042   片状电容;10nF±10%-50V-0603-X7R;RoHS\n",
      "part number in exclude: \u001b[1;32m 21003-00042\u001b[0m\n",
      "27   21003-00043   片状电容;100nF±10%-50V-0603-X7R;RoHS\n",
      "part number in exclude: \u001b[1;32m 21003-00043\u001b[0m\n",
      "28   21003-00049   片状电容;100pF±5%-50V-0603-NPO;RoHS\n",
      "part number in exclude: \u001b[1;32m 21003-00049\u001b[0m\n",
      "29   21003-00076   片状电容1000pF;±10%;250V;X7R;1206;RoHS\n",
      "30   21003-00124   片状电容;50VDC;10uF;±10%;X5R;1206;RoHS\n",
      "31   21003-00300   片状电容;50V;220pF;±5%;NPO;0603;RoHS\n",
      "part number in exclude: \u001b[1;32m 21003-00300\u001b[0m\n",
      "32   21006-00013   安规瓷片电容;4700pF±20%-400VAC(UL250VAC)-Φ12-PIN=10-Y1;RoHS\n",
      "33   22001-00023   整流二极管;200V/2A;SMA-403D;RoHS\n",
      "34   22001-00034   整流二极管;75V;0.15A;1V;SOD-123;RoHS\n",
      "35   22003-00015   TVS二极管;双瞬态TVS管;5.8V;1mA;6.45V;13.4V;298A;SMB;RoHS\n",
      "36   22003-00025   TVS二极管阵列;5V;12A;SO23-6L;RoHS\n",
      "37   22003-00035   TVS二极管;双管单向;8V;8V;18A;SOT-23;RoHS\n",
      "38   22005-00002   肖特基二极管;40.0;5.0;0.75@If=5A;DO-214AB;RoHS\n",
      "39   22005-00066   肖特基二极管;200V;4A;0.86V;SMC;ROHS;汽车级\n",
      "40   22006-00021   发光二极管;绿色;15mcd;贴片;RoHS\n",
      "41   22007-00013   贴片NPN三极管;40V/0.6A/225mW/SOT-23;RoHS\n",
      "part number in exclude: \u001b[1;32m 22007-00013\u001b[0m\n",
      "42   22009-00015   光耦;单路;CTR200%～400%;4;3;5000.0;GW4(SOP4);RoHS\n",
      "43   22009-00067   光耦;1.7μs;1.7μs;4000V;SSO-8;RoHS\n",
      "44   23003-00078   逻辑电路;模拟开关/多工器;5~18 V;SOIC-16;CU NIPDAU;RoHS\n",
      "45   23004-00044   线性电路;RS-485收发器;4.5～5.5 V;SO-8;RoHS\n",
      "46   23004-00089   CAN收发器;集成2路光耦隔离;SOP-8;RoHS\n",
      "47   23004-00313   DC-DC BUCK;SO8_PAD;TPS54331;3.5V~28V;3A;RoHS\n",
      "48   23004-00462   线性电路;USB数字隔离器;双向;5000 VRMS isolation;5.0V;SOIC-16 WIDE;RoHS\n",
      "49   24002-00291   高频变压器;12:15:15;230uH;±25%;DMR40;B;定制;储能产品用LLC低压侧驱动变压器;RoHS\n",
      "50   25002-00008   贴片电感;39uH;B;片状电感器;39UH-CD104;RoHS\n",
      "51   25003-00005   共模电感;单相;260mA;锰锌;B;定制;RoHS\n",
      "52   25011-00010   EMI磁珠、磁环;磁珠;500 Ω;0.25;2.2*1.4*1.1 mm;RoHS\n",
      "53   29003-00085   继电器;2A;240VAC/30VDC;5VDC;40mA;UL/CUL;信号继电器;RoHS\n",
      "54   32004-00093   保险管;30V;0.16A;1206;可恢复保险;RoHS\n",
      "55   32004-00136   保险管;16V;0.75A;1206;可恢复保险;RoHS\n",
      "56   32006-00005   陶瓷气体放电管;90V;5kA;5*7.5mm;SMD;RoHS\n",
      "57   36001-00017   排针（方脚）;2P/单排/直脚/PIN距2.54mm/脚总长11.54mm;RoHS\n",
      "58   36002-00018   白色连接器;2P/直脚/PIN距2.50mm/打K脚;RoHS\n",
      "59   36002-00065   插座/连接器;RJ45网口插座;8.0;插座;直脚;PCB焊接型;立式;全塑黑色;RoHS\n",
      "60   36002-00114   白色连接器;4P/PIN距2.50mm/直脚/打K脚;RoHS\n",
      "61   36002-00354   插座、连接器;USB底座-A型;4PIN;插座;直脚;PCB焊接型;1A;2.9mm;白胶;RoHS\n",
      "62   36002-00949   插座、连接器;直针牛角;2*20PIN;公头;插座;直脚;PCB焊接型;1A;3mm;PIN距2.0mm\n",
      "63   63003-00006   十字小盘头弹垫平垫组合螺钉M4*8; 彩锌;RoHS\n"
     ]
    }
   ],
   "source": [
    "option = webdriver.ChromeOptions()\n",
    "#option.add_extension('D:\\SPIDER\\LazyTestElementsExtractor.crx')\n",
    "#option.add_argument('--user-data-dir=C:\\Users\\Administrator\\AppData\\Local\\Google\\Chrome\\User Data')\n",
    "browser=webdriver.Chrome(executable_path=path,chrome_options=option)\n",
    "try:\n",
    "    browser.get(web_location[\"home_page\"])\n",
    "    print(\"handle = \", browser.window_handles)\n",
    "    wait = WebDriverWait(browser, 120)\n",
    "    wait.until(lambda ele: ele.find_element_by_id(web_location[\"id_globalSearch\"]))\n",
    "    i = 1\n",
    "    for index, columns in bom.iterrows():\n",
    "        part_number, qty, need_part_qty, ref_designer = calc_need_qty(columns, board_qty, smd_round_up)\n",
    "        time.sleep(1)\n",
    "        input = browser.find_element_by_id(web_location[\"id_globalSearch\"])\n",
    "        input.send_keys(part_number)\n",
    "        input.send_keys(Keys.ENTER)\n",
    "        check_store_click(browser, web_location[\"text_inquire_shenzhen\"], wait)\n",
    "        \n",
    "        handle = browser.window_handles\n",
    "        browser.switch_to_window(handle[1])\n",
    "        part_number_shenzhen, making_shenzhen, on_road_shenzhen, on_store_shenzhen = store_find(browser, wait)\n",
    "        browser.close()\n",
    "        \n",
    "        handle = browser.window_handles\n",
    "        browser.switch_to_window(handle[0])\n",
    "        check_store_click(browser, web_location[\"text_inquire_songgang\"], wait)\n",
    "        \n",
    "        handle = browser.window_handles\n",
    "        browser.switch_to_window(handle[1])\n",
    "        part_number_songgang, making_songgang, on_road_songgang, on_store_songgang = store_find(browser, wait)\n",
    "        browser.close()\n",
    "        \n",
    "        handle = browser.window_handles\n",
    "        browser.switch_to_window(handle[0])\n",
    "        time.sleep(1)\n",
    "        part_number_c, description, supplier_num_str = add_specification(browser, wait)\n",
    "        \n",
    "        supplier_num = int(supplier_num_str[-6:-5])\n",
    "        supplier = \"\"\n",
    "        model = \"\"\n",
    "        rohs = \"\"\n",
    "        grades = \"\"\n",
    "        for tr_num in range(1, 1+supplier_num):\n",
    "            supplier_xpath = '//*[@id=\"report.projectlycle.list\"]/tbody[2]/tr[' + str(tr_num) + ']/td[1]/div/span'\n",
    "            model_xpath = '//*[@id=\"report.projectlycle.list\"]/tbody[2]/tr[' + str(tr_num) + ']/td[3]/div/span'\n",
    "            rohs_xpath = '//*[@id=\"report.projectlycle.list\"]/tbody[2]/tr[' + str(tr_num) + ']/td[4]/div/span'\n",
    "            kid_xpath = '//*[@id=\"report.projectlycle.list\"]/tbody[2]/tr[' + str(tr_num) + ']/td[5]/div/span'\n",
    "                         \n",
    "            kid = (browser.find_element_by_xpath(kid_xpath).text)[0:1]\n",
    "            if kid == \"A\" or kid == \"B\" or kid == \"C\":\n",
    "                supplier += browser.find_element_by_xpath(supplier_xpath).text + \";\"\n",
    "                model += browser.find_element_by_xpath(model_xpath).text + \";\"   \n",
    "                time.sleep(1)\n",
    "                rohs += browser.find_element_by_xpath(rohs_xpath).text + \";\"\n",
    "            grades += kid + \";\"\n",
    "\n",
    "        print(str(i) + \"   \" + str(part_number) + \"   \" + str(description))\n",
    "        if (part_number == part_number_shenzhen == part_number_c) and (part_number == part_number_songgang):\n",
    "            if (on_store_songgang - making_songgang) > (int)(need_part_qty+100):\n",
    "                store_setted = \"光伏松岗\"\n",
    "            elif (on_store_shenzhen - making_shenzhen) > (int)(need_part_qty+100):\n",
    "                store_setted = \"深圳\"           \n",
    "            else:\n",
    "                store_setted = \"全无库存\"\n",
    "                \n",
    "            series = pd.Series([part_number, description, \n",
    "                                model, supplier, \"EACH\", \n",
    "                                qty, ref_designer, need_part_qty,\n",
    "                                making_shenzhen, on_road_shenzhen, on_store_shenzhen,\n",
    "                                making_songgang, on_road_songgang, on_store_songgang,\n",
    "                                grades, store_setted, rohs])\n",
    "            \n",
    "        else:\n",
    "            series = pd.Series([\"error\"])\n",
    "        #print(series)\n",
    "\n",
    "        dest, standard_dest, custom_dest, other_dest = custom_standard_split(part_number, \n",
    "                                                                             dest, standard_dest, custom_dest, other_dest, \n",
    "                                                                              standard_made_list, custom_made_list, series, exclude)\n",
    "       \n",
    "        i += 1       \n",
    "    saved_to_excel(dest, standard_dest, custom_dest, other_dest, \n",
    "                   material_name, standard_material_name, custom_material_name, other_material_name)\n",
    "    dest\n",
    "\n",
    "#finally:\n",
    "#    pass\n",
    "except Exception as e:\n",
    "    saved_to_excel(dest, standard_dest, custom_dest, other_dest, \n",
    "                   material_name, standard_material_name, custom_material_name, other_material_name)\n",
    "    print(\"invalid part number: \\033[1;32m \" + str(part_number) + \"\\033[0m\" + str('\\n') + str(e))"
   ]
  },
  {
   "cell_type": "markdown",
   "metadata": {},
   "source": [
    "* **不能将pdm里没有的料号加载,否则会引发异常**\n",
    "* **异常引发后要保存数据**"
   ]
  },
  {
   "cell_type": "code",
   "execution_count": 5,
   "metadata": {
    "slideshow": {
     "slide_type": "notes"
    }
   },
   "outputs": [
    {
     "data": {
      "text/plain": [
       "'\\ndest.to_excel(\"./auto_save_store.xlsx\")\\n\\na = bom[[\"Part Number\", \"QTY\"]]\\nfor i, j in bom.iterrows():\\n    #print(\"i = \", i)\\n   # print(\"j = \", j)\\n    print(j[\"Part Number\"])\\n    print(j[\"QTY\"])\\n    \\nj\\n'"
      ]
     },
     "execution_count": 5,
     "metadata": {},
     "output_type": "execute_result"
    }
   ],
   "source": [
    "'''\n",
    "dest.to_excel(\"./auto_save_store.xlsx\")\n",
    "\n",
    "a = bom[[\"Part Number\", \"QTY\"]]\n",
    "for i, j in bom.iterrows():\n",
    "    #print(\"i = \", i)\n",
    "   # print(\"j = \", j)\n",
    "    print(j[\"Part Number\"])\n",
    "    print(j[\"QTY\"])\n",
    "    \n",
    "j\n",
    "'''"
   ]
  },
  {
   "cell_type": "code",
   "execution_count": 6,
   "metadata": {
    "collapsed": true
   },
   "outputs": [],
   "source": [
    "saved_to_excel(dest, standard_dest, custom_dest, other_dest, \n",
    "                  material_name, standard_material_name, custom_material_name, other_material_name)"
   ]
  },
  {
   "cell_type": "code",
   "execution_count": 7,
   "metadata": {},
   "outputs": [
    {
     "name": "stdout",
     "output_type": "stream",
     "text": [
      "123456\n"
     ]
    }
   ],
   "source": [
    "s = \"123,456\"\n",
    "print(s.replace(',', ''))"
   ]
  },
  {
   "cell_type": "code",
   "execution_count": 8,
   "metadata": {},
   "outputs": [
    {
     "data": {
      "text/plain": [
       "True"
      ]
     },
     "execution_count": 8,
     "metadata": {},
     "output_type": "execute_result"
    }
   ],
   "source": [
    "\"20001-00001\" in list(exclude[\"Part Number\"])"
   ]
  }
 ],
 "metadata": {
  "kernelspec": {
   "display_name": "Python 3",
   "language": "python",
   "name": "python3"
  },
  "language_info": {
   "codemirror_mode": {
    "name": "ipython",
    "version": 3
   },
   "file_extension": ".py",
   "mimetype": "text/x-python",
   "name": "python",
   "nbconvert_exporter": "python",
   "pygments_lexer": "ipython3",
   "version": "3.6.2"
  }
 },
 "nbformat": 4,
 "nbformat_minor": 2
}
