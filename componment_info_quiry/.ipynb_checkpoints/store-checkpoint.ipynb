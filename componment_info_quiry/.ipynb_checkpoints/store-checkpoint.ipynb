{
 "cells": [
  {
   "cell_type": "code",
   "execution_count": 1,
   "metadata": {
    "collapsed": true
   },
   "outputs": [],
   "source": [
    "# -*- coding: utf-8 -*-\n",
    "from selenium import webdriver\n",
    "from selenium.webdriver.common.by import By\n",
    "from selenium.webdriver.common.keys import Keys\n",
    "from selenium.webdriver.support import expected_conditions as EC\n",
    "from selenium.webdriver.support.wait import WebDriverWait\n",
    "from selenium.webdriver.support.select import Select\n",
    "import time\n",
    "import pandas as pd\n",
    "import os\n",
    "from base import *"
   ]
  },
  {
   "cell_type": "code",
   "execution_count": 2,
   "metadata": {
    "collapsed": true
   },
   "outputs": [],
   "source": [
    "def my_test(a, b):\n",
    "    return a + b\n",
    "#bom['Value'] = bom.apply(bom, axis = 0, args = (\"Part_Number\", \"QTY\"))\n",
    "#for qty, part_number in bom['Value']:\n",
    "#    print(part_number, qty)\n",
    "#a = pd.Series([bom[\"QTY\"],bom[\"Part_Number\"]])\n",
    "#bom.columns()"
   ]
  },
  {
   "cell_type": "code",
   "execution_count": 3,
   "metadata": {
    "collapsed": true
   },
   "outputs": [],
   "source": [
    "board_qty = 10\n",
    "IOC = \"./source/Board.xlsx\"\n",
    "SHEETNAMEC = \"Schematic1\"\n",
    "path = \"D:\\SPIDER\\chromedriver.exe\"\n",
    "bom = pd.read_excel(io=IOC, sheetname=SHEETNAMEC)\n",
    "bom.head(1)\n",
    "\n",
    "exclude = pd.read_excel(io=\"./source/常规用贴片清单.xlsx\", sheetname=\"Sheet1\")\n",
    "\n",
    "dest = pd.DataFrame()\n",
    "material_name = \"./dest/auto_process.xlsx\"\n",
    "standard_dest = pd.DataFrame()\n",
    "standard_material_name = \"./dest/标准件.xlsx\"\n",
    "custom_dest = pd.DataFrame()\n",
    "custom_material_name = \"./dest/定制件.xlsx\"\n",
    "other_dest = pd.DataFrame()\n",
    "other_material_name = \"./dest/已有物料.xlsx\""
   ]
  },
  {
   "cell_type": "code",
   "execution_count": 4,
   "metadata": {
    "scrolled": true,
    "slideshow": {
     "slide_type": "notes"
    }
   },
   "outputs": [
    {
     "name": "stdout",
     "output_type": "stream",
     "text": [
      "handle =  ['CDwindow-A389EDB8D417D9B5743473FB220AA064']\n",
      "1   22005-00039   肖特基二极管;40V;3A;0.5V;DO214AC;RoHS\n",
      "2   22005-00053   肖特基二极管;100V;5A;0.88V;TO-277A;汽车级;RoHS\n",
      "3   22005-00065   肖特基二极管;100V;5A;0.71V;DPAK;ROHS;汽车级\n",
      "4   22005-00032   肖特基二极管;40V;5A;0.44V;DO-214AB;RoHS\n",
      "5   22005-00073   肖特基二极管;100V;6A;770mV;SOT1289;汽车级;RoHS\n",
      "6   22005-00019   肖特基二极管;100V;3A;0.8V;D0-214AA;RoHS\n",
      "7   22005-00024   肖特基二极管;100V;5A;0.8V;DO-201AD;RoHS\n",
      "8   22005-00050   肖特基二极管;200V;3A;0.78V;POWER DI-5;汽车级;RoHS\n",
      "9   22005-00066   肖特基二极管;200V;4A;0.86V;SMC;ROHS;汽车级\n",
      "10   22005-00076   肖特基二极管;1200V;5A;1.4V;TO-252-2;RoHS\n",
      "11   22005-00008   肖特基二极管;100.0;3.0;0.74@If=3A;DO-201AD;RoHS\n",
      "12   22005-00026   肖特基二极管;40V;5A;DIP\n",
      "13   22005-00044   肖特基二极管;60.0;10.0;0.6@If=3A;D0-201AD;RoHS\n",
      "14   22005-00025   肖特基二极管;200V;3A;0.9V;DO-214AA;RoHS\n",
      "15   22005-00054   肖特基二极管;30V;3A;0.47V;TO-277A;汽车级;RoHS\n",
      "16   22005-00002   肖特基二极管;40.0;5.0;0.75@If=5A;DO-214AB;RoHS\n",
      "17   22005-00004   肖特基二极管;100V/3A;DO-214AB\n",
      "18   22005-00017   肖特基二极管;200V;5A;0.9V;DO-201AD;RoHS\n",
      "19   22005-00069   肖特基二极管;200V;3.0A;0.86V;SMB;汽车级;RoHS\n",
      "20   22005-00070   肖特基二极管;600V;6A;1.4V;TO-220AC;碳化硅;RoHS\n"
     ]
    }
   ],
   "source": [
    "option = webdriver.ChromeOptions()\n",
    "#option.add_extension('D:\\SPIDER\\LazyTestElementsExtractor.crx')\n",
    "#option.add_argument('--user-data-dir=C:\\Users\\Administrator\\AppData\\Local\\Google\\Chrome\\User Data')\n",
    "browser=webdriver.Chrome(executable_path=path,chrome_options=option)\n",
    "try:\n",
    "    browser.get(web_location[\"home_page\"])\n",
    "    print(\"handle = \", browser.window_handles)\n",
    "    wait = WebDriverWait(browser, 120)\n",
    "    wait.until(lambda ele: ele.find_element_by_id(web_location[\"id_globalSearch\"]))\n",
    "    i = 1\n",
    "    for index, columns in bom.iterrows():\n",
    "        part_number, qty, need_part_qty, ref_designer = calc_need_qty(columns, board_qty)\n",
    "        \n",
    "        input = browser.find_element_by_id(web_location[\"id_globalSearch\"])\n",
    "        input.send_keys(part_number)\n",
    "        input.send_keys(Keys.ENTER)\n",
    "        check_store_click(browser, web_location[\"text_inquire_shenzhen\"], wait)\n",
    "        \n",
    "        handle = browser.window_handles\n",
    "        browser.switch_to_window(handle[1])\n",
    "        part_number_shenzhen, making_shenzhen, on_road_shenzhen, on_store_shenzhen = store_find(browser, wait)\n",
    "        browser.close()\n",
    "        \n",
    "        handle = browser.window_handles\n",
    "        browser.switch_to_window(handle[0])\n",
    "        check_store_click(browser, web_location[\"text_inquire_songgang\"], wait)\n",
    "        \n",
    "        handle = browser.window_handles\n",
    "        browser.switch_to_window(handle[1])\n",
    "        part_number_songgang, making_songgang, on_road_songgang, on_store_songgang = store_find(browser, wait)\n",
    "        browser.close()\n",
    "        \n",
    "        handle = browser.window_handles\n",
    "        browser.switch_to_window(handle[0])\n",
    "        \n",
    "        part_number_c, description, supplier_num_str = add_specification(browser, wait)\n",
    "        \n",
    "        supplier_num = int(supplier_num_str[-6:-5])\n",
    "        supplier = \"\"\n",
    "        model = \"\"\n",
    "        rohs = \"\"\n",
    "        grades = \"\"\n",
    "        for tr_num in range(1, 1+supplier_num):\n",
    "            supplier_xpath = '//*[@id=\"report.projectlycle.list\"]/tbody[2]/tr[' + str(tr_num) + ']/td[1]/div/span'\n",
    "            model_xpath = '//*[@id=\"report.projectlycle.list\"]/tbody[2]/tr[' + str(tr_num) + ']/td[3]/div/span'\n",
    "            rohs_xpath = '//*[@id=\"report.projectlycle.list\"]/tbody[2]/tr[' + str(tr_num) + ']/td[4]/div/span'\n",
    "            kid_xpath = '//*[@id=\"report.projectlycle.list\"]/tbody[2]/tr[' + str(tr_num) + ']/td[5]/div/span'\n",
    "                         \n",
    "            kid = (browser.find_element_by_xpath(kid_xpath).text)[0:1]\n",
    "            if kid == \"A\" or kid == \"B\" or kid == \"C\":\n",
    "                supplier += browser.find_element_by_xpath(supplier_xpath).text + \";\"\n",
    "                model += browser.find_element_by_xpath(model_xpath).text + \";\"                                \n",
    "                rohs += browser.find_element_by_xpath(rohs_xpath).text + \";\"\n",
    "            grades += kid + \";\"\n",
    "\n",
    "        print(str(i) + \"   \" + str(part_number) + \"   \" + str(description))\n",
    "        if (part_number == part_number_shenzhen == part_number_c) and (part_number == part_number_songgang):\n",
    "            if (on_store_songgang - making_songgang) > (need_part_qty+100):\n",
    "                store_setted = \"光伏松岗\"\n",
    "            elif (on_store_shenzhen - making_shenzhen) > (need_part_qty+100):\n",
    "                store_setted = \"深圳\"           \n",
    "            else:\n",
    "                store_setted = \"全无库存\"\n",
    "                \n",
    "            series = pd.Series([part_number, description, \n",
    "                                model, supplier, \"EACH\", \n",
    "                                qty, ref_designer, need_part_qty,\n",
    "                                making_shenzhen, on_road_shenzhen, on_store_shenzhen,\n",
    "                                making_songgang, on_road_songgang, on_store_songgang,\n",
    "                                grades, store_setted, rohs])\n",
    "            \n",
    "        else:\n",
    "            series = pd.Series([\"error\"])\n",
    "        #print(series)\n",
    "\n",
    "        dest, standard_dest, custom_dest, other_dest = custom_standard_split(part_number, \n",
    "                                                                             dest, standard_dest, custom_dest, other_dest, \n",
    "                                                                              standard_made_list, custom_made_list, series, exclude)\n",
    "       \n",
    "        i += 1       \n",
    "    saved_to_excel(dest, standard_dest, custom_dest, other_dest, \n",
    "                   material_name, standard_material_name, custom_material_name, other_material_name)\n",
    "    dest\n",
    "\n",
    "#finally:\n",
    "#    pass\n",
    "except Exception as e:\n",
    "    saved_to_excel(dest, standard_dest, custom_dest, other_dest, \n",
    "                   material_name, standard_material_name, custom_material_name, other_material_name)\n",
    "    print(\"invalid part number: \\033[1;32m \" + str(part_number) + \"\\033[0m\" + str('\\n') + str(e))"
   ]
  },
  {
   "cell_type": "markdown",
   "metadata": {},
   "source": [
    "* **不能将pdm里没有的料号加载,否则会引发异常**\n",
    "* **异常引发后要保存数据**"
   ]
  },
  {
   "cell_type": "code",
   "execution_count": 5,
   "metadata": {
    "slideshow": {
     "slide_type": "notes"
    }
   },
   "outputs": [
    {
     "data": {
      "text/plain": [
       "'\\ndest.to_excel(\"./auto_save_store.xlsx\")\\n\\na = bom[[\"Part Number\", \"QTY\"]]\\nfor i, j in bom.iterrows():\\n    #print(\"i = \", i)\\n   # print(\"j = \", j)\\n    print(j[\"Part Number\"])\\n    print(j[\"QTY\"])\\n    \\nj\\n'"
      ]
     },
     "execution_count": 5,
     "metadata": {},
     "output_type": "execute_result"
    }
   ],
   "source": [
    "'''\n",
    "dest.to_excel(\"./auto_save_store.xlsx\")\n",
    "\n",
    "a = bom[[\"Part Number\", \"QTY\"]]\n",
    "for i, j in bom.iterrows():\n",
    "    #print(\"i = \", i)\n",
    "   # print(\"j = \", j)\n",
    "    print(j[\"Part Number\"])\n",
    "    print(j[\"QTY\"])\n",
    "    \n",
    "j\n",
    "'''"
   ]
  },
  {
   "cell_type": "code",
   "execution_count": 6,
   "metadata": {},
   "outputs": [
    {
     "data": {
      "text/plain": [
       "'STPSC606D;'"
      ]
     },
     "execution_count": 6,
     "metadata": {},
     "output_type": "execute_result"
    }
   ],
   "source": [
    "model"
   ]
  },
  {
   "cell_type": "code",
   "execution_count": 7,
   "metadata": {},
   "outputs": [
    {
     "name": "stdout",
     "output_type": "stream",
     "text": [
      "123456\n"
     ]
    }
   ],
   "source": [
    "s = \"123,456\"\n",
    "print(s.replace(',', ''))"
   ]
  },
  {
   "cell_type": "code",
   "execution_count": 8,
   "metadata": {},
   "outputs": [
    {
     "data": {
      "text/plain": [
       "True"
      ]
     },
     "execution_count": 8,
     "metadata": {},
     "output_type": "execute_result"
    }
   ],
   "source": [
    "\"20001-00001\" in list(exclude[\"Part Number\"])"
   ]
  },
  {
   "cell_type": "code",
   "execution_count": 9,
   "metadata": {},
   "outputs": [
    {
     "name": "stdout",
     "output_type": "stream",
     "text": [
      "1\n"
     ]
    }
   ],
   "source": [
    "\n",
    "#while(1):\n",
    "print(\"1\")"
   ]
  },
  {
   "cell_type": "code",
   "execution_count": null,
   "metadata": {
    "collapsed": true
   },
   "outputs": [],
   "source": []
  }
 ],
 "metadata": {
  "kernelspec": {
   "display_name": "Python 3",
   "language": "python",
   "name": "python3"
  },
  "language_info": {
   "codemirror_mode": {
    "name": "ipython",
    "version": 3
   },
   "file_extension": ".py",
   "mimetype": "text/x-python",
   "name": "python",
   "nbconvert_exporter": "python",
   "pygments_lexer": "ipython3",
   "version": "3.6.2"
  }
 },
 "nbformat": 4,
 "nbformat_minor": 2
}
