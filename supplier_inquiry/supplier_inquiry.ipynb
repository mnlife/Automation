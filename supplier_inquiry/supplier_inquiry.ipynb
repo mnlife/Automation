{
 "cells": [
  {
   "cell_type": "code",
   "execution_count": 9,
   "metadata": {
    "collapsed": true
   },
   "outputs": [],
   "source": [
    "import pandas as pd\n",
    "import os"
   ]
  },
  {
   "cell_type": "code",
   "execution_count": 10,
   "metadata": {
    "collapsed": true
   },
   "outputs": [],
   "source": [
    "IOC = \"./auto_save_store.xlsx\n",
    "#SHEETNAMEC = \"21002smdelectrolyticcapacitor\"\n",
    "SHEETNAMEC = \"Schematic1\"\n",
    "bom = pd.read_excel(io=IOC, sheetname=SHEETNAMEC)\n",
    "bom.head(1)\n",
    "board_qty = 10\n"
   ]
  },
  {
   "cell_type": "code",
   "execution_count": 16,
   "metadata": {
    "scrolled": false
   },
   "outputs": [
    {
     "name": "stdout",
     "output_type": "stream",
     "text": [
      "handle =  ['CDwindow-ECBE926158FF01DA424E0082A5E2275B']\n",
      "1   20001-00001\n",
      "2   20001-00003\n",
      "3   20001-00005\n",
      "4   20001-00041\n",
      "5   20001-00116\n",
      "6   20001-00209\n",
      "7   20001-00216\n",
      "8   20001-00294\n",
      "9   20001-00433\n",
      "10   20001-00778\n",
      "11   21002-00006\n",
      "12   21002-00012\n",
      "13   21003-00041\n",
      "14   21003-00043\n",
      "15   21003-00047\n",
      "16   21003-00214\n",
      "17   21003-00230\n",
      "18   21003-00280\n",
      "19   21003-00330\n",
      "20   21005-00145\n",
      "21   21005-00155\n",
      "22   22001-00023\n",
      "23   22001-00034\n",
      "24   22001-00041\n",
      "25   22005-00001\n",
      "26   22007-00075\n",
      "27   22007-00076\n",
      "28   22008-00022\n",
      "29   22008-00119\n",
      "30   22009-00004\n",
      "31   23003-00218\n",
      "32   32004-00123\n"
     ]
    },
    {
     "data": {
      "text/plain": [
       "'\\nexcept Exception as e:\\n    print(\"invalid part number: \\x1b[1;32m \"+ str(part_number)+\"\\x1b[0m\\n\" + str(e))\\n'"
      ]
     },
     "execution_count": 16,
     "metadata": {},
     "output_type": "execute_result"
    }
   ],
   "source": [
    "# -*- coding: utf-8 -*-\n",
    "from selenium import webdriver\n",
    "from selenium.webdriver.common.by import By\n",
    "from selenium.webdriver.common.keys import Keys\n",
    "from selenium.webdriver.support import expected_conditions as EC\n",
    "from selenium.webdriver.support.wait import WebDriverWait\n",
    "from selenium.webdriver.support.select import Select\n",
    "import time\n",
    "#import re\n",
    "dest = pd.DataFrame()\n",
    "path = \"D:\\SPIDER\\chromedriver.exe\"\n",
    "option = webdriver.ChromeOptions()\n",
    "#option.add_extension('D:\\SPIDER\\LazyTestElementsExtractor.crx')\n",
    "#option.add_argument('--user-data-dir=C:\\Users\\Administrator\\AppData\\Local\\Google\\Chrome\\User Data')\n",
    "browser=webdriver.Chrome(executable_path=path,chrome_options=option)\n",
    "try:\n",
    "    browser.get(\"http://pdm.invt.com.cn/Windchill\")\n",
    "    #browser.find_element_by_xpath('.').send_keys(\"1200254\").send_keys(Keys.TAB).send_keys(\"1200254\").send_keys(Keys.ENTER)\n",
    "    print(\"handle = \", browser.window_handles)\n",
    "    wait = WebDriverWait(browser, 60)\n",
    "    wait.until(lambda ele: ele.find_element_by_id(\"globalSearch:InputText:125303\"))\n",
    "    i = 1\n",
    "    for part_number in bom[\"Part_Number\"]:\n",
    "        print(str(i)+\"   \"+str(part_number))\n",
    "        input = browser.find_element_by_id(\"globalSearch:InputText:125303\")\n",
    "        input.send_keys(part_number)\n",
    "        input.send_keys(Keys.ENTER)\n",
    "        '''if \"20001\" in part_number or \"21003\" in part_number:\n",
    "            need_part_qty = qty * board_qty + 50\n",
    "        else:\n",
    "            need_part_qty = qty * (board_qty + 1) '''\n",
    "        part_number_c = browser.find_element_by_xpath('//*[@id=\"wt.fc.Persistable.defaultSearchView\"]/tbody[2]/tr/td[7]/div/span/a').text\n",
    "        specification = browser.find_element_by_xpath('//*[@id=\"wt.fc.Persistable.defaultSearchView\"]/tbody[2]/tr/td[8]/div/span').text\n",
    "        \"\"\"\n",
    "        browser.find_element_by_xpath('//*[@id=\"wt.fc.Persistable.defaultSearchView\"]/tbody[2]/tr/td[7]/div/span/a').click()\n",
    "        #time.sleep(3)\n",
    "        wait.until(lambda ele: ele.find_element_by_xpath('//*[@id=\"object_relatedItems\"]'))\n",
    "        browser.find_element_by_xpath('//*[@id=\"object_brandInfo\"]').click()\n",
    "        #time.sleep(3)\n",
    "        wait.until(lambda ele: ele.find_element_by_xpath('//*[@id=\"brandrelatedBrand_r\"]'))\n",
    "        \n",
    "        browser.find_element_by_xpath('//*[@id=\"brandrelatedBrand_r\"]').click()\n",
    "        \n",
    "        wait.until(lambda ele: ele.find_element_by_xpath('//*[@id=\"headerDiv_table__report.projectlycle.list_TABLE\"]/font'))\n",
    "        #time.sleep(5)\n",
    "        supplier_num_str = browser.find_element_by_xpath('//*[@id=\"headerDiv_table__report.projectlycle.list_TABLE\"]').text\n",
    "        \n",
    "        supplier_num = int(supplier_num_str[-6:-5])\n",
    "        supplier = \"\"\n",
    "        model = \"\"\n",
    "        grades = \"\"\n",
    "        for tr_num in range(1, 1+supplier_num):\n",
    "            supplier_xpath = '//*[@id=\"report.projectlycle.list\"]/tbody[2]/tr[' + str(tr_num) + ']/td[1]/div/span'\n",
    "            model_xpath = '//*[@id=\"report.projectlycle.list\"]/tbody[2]/tr[' + str(tr_num) + ']/td[3]/div/span'\n",
    "            kid_xpath = '//*[@id=\"report.projectlycle.list\"]/tbody[2]/tr[' + str(tr_num) + ']/td[5]/div/span'\n",
    "            \n",
    "            kid = (browser.find_element_by_xpath(kid_xpath).text)[0:1]\n",
    "            if kid == \"A\" or kid == \"B\" or kid == \"C\":\n",
    "                supplier += browser.find_element_by_xpath(supplier_xpath).text + \";\"\n",
    "                model += browser.find_element_by_xpath(model_xpath).text + \";\"                                \n",
    "                \n",
    "            grades += kid + \";\"\n",
    "        \"\"\"\n",
    "        series = pd.Series([part_number_c, specification])#, supplier, model, grades])\n",
    "        #print(str(supplier_num_str) + \"\\nsupplier_num = \" + str(supplier_num))\n",
    "        #print(series)\n",
    "        dest = dest.append(series, ignore_index=True)\n",
    "        i += 1\n",
    "        #time.sleep(3)\n",
    "    dest.to_excel('./auto_save_store.xlsx')\n",
    "    dest\n",
    "finally:\n",
    "    pass\n",
    "\"\"\"\n",
    "except Exception as e:\n",
    "    print(\"invalid part number: \\033[1;32m \"+ str(part_number)+\"\\033[0m\\n\" + str(e))\n",
    "\"\"\""
   ]
  },
  {
   "cell_type": "markdown",
   "metadata": {},
   "source": [
    "* 不能将pdm里没有的料号加载,否则会引发异常\n",
    "* 异常引发后要保存数据"
   ]
  },
  {
   "cell_type": "code",
   "execution_count": 12,
   "metadata": {
    "collapsed": true
   },
   "outputs": [],
   "source": [
    "dest.to_excel('./auto_save_store.xlsx')"
   ]
  },
  {
   "cell_type": "code",
   "execution_count": 13,
   "metadata": {},
   "outputs": [
    {
     "name": "stdout",
     "output_type": "stream",
     "text": [
      "2\n"
     ]
    }
   ],
   "source": [
    "a = \"物料品牌规格清单 (1 个对象)\"\n",
    "a = \"物料品牌规格清单 (共 2 个对象)\"\n",
    "if \"共\" in a:\n",
    "    supplier_num = int(a[12:13])\n",
    "else:\n",
    "    supplier_num = int(a[10:11])\n",
    "supplier_num = a[-6:-5]\n",
    "print((supplier_num))"
   ]
  },
  {
   "cell_type": "code",
   "execution_count": 14,
   "metadata": {},
   "outputs": [
    {
     "name": "stdout",
     "output_type": "stream",
     "text": [
      "B\n",
      "ok\n"
     ]
    }
   ],
   "source": [
    "choose_ap = \"B(推荐选用)\"\n",
    "test = choose_ap[:1]\n",
    "print(choose_ap[:1])\n",
    "if test == 'B':\n",
    "    print(\"ok\")"
   ]
  },
  {
   "cell_type": "code",
   "execution_count": null,
   "metadata": {
    "collapsed": true
   },
   "outputs": [],
   "source": []
  }
 ],
 "metadata": {
  "kernelspec": {
   "display_name": "Python 3",
   "language": "python",
   "name": "python3"
  },
  "language_info": {
   "codemirror_mode": {
    "name": "ipython",
    "version": 3
   },
   "file_extension": ".py",
   "mimetype": "text/x-python",
   "name": "python",
   "nbconvert_exporter": "python",
   "pygments_lexer": "ipython3",
   "version": "3.6.2"
  }
 },
 "nbformat": 4,
 "nbformat_minor": 2
}
