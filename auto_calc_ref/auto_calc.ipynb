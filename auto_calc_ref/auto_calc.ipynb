{
 "cells": [
  {
   "cell_type": "code",
   "execution_count": 1,
   "metadata": {
    "collapsed": true
   },
   "outputs": [],
   "source": [
    "from selenium import webdriver\n",
    "from selenium.webdriver.common.by import By\n",
    "from selenium.webdriver.common.keys import Keys\n",
    "from selenium.webdriver.support import expected_conditions as EC\n",
    "from selenium.webdriver.support.wait import WebDriverWait\n",
    "from selenium.webdriver.support.select import Select\n",
    "import time\n",
    "import pandas as pd\n",
    "import os"
   ]
  },
  {
   "cell_type": "code",
   "execution_count": 6,
   "metadata": {},
   "outputs": [
    {
     "data": {
      "text/html": [
       "<div>\n",
       "<style>\n",
       "    .dataframe thead tr:only-child th {\n",
       "        text-align: right;\n",
       "    }\n",
       "\n",
       "    .dataframe thead th {\n",
       "        text-align: left;\n",
       "    }\n",
       "\n",
       "    .dataframe tbody tr th {\n",
       "        vertical-align: top;\n",
       "    }\n",
       "</style>\n",
       "<table border=\"1\" class=\"dataframe\">\n",
       "  <thead>\n",
       "    <tr style=\"text-align: right;\">\n",
       "      <th></th>\n",
       "      <th>Part Number</th>\n",
       "      <th>Description</th>\n",
       "      <th>Value</th>\n",
       "    </tr>\n",
       "  </thead>\n",
       "  <tbody>\n",
       "    <tr>\n",
       "      <th>0</th>\n",
       "      <td>20001-00642</td>\n",
       "      <td>片状电阻;1/10W;1.07K;1%;0603;RoHS</td>\n",
       "      <td>1.07kΩ</td>\n",
       "    </tr>\n",
       "  </tbody>\n",
       "</table>\n",
       "</div>"
      ],
      "text/plain": [
       "   Part Number                    Description   Value\n",
       "0  20001-00642  片状电阻;1/10W;1.07K;1%;0603;RoHS  1.07kΩ"
      ]
     },
     "execution_count": 6,
     "metadata": {},
     "output_type": "execute_result"
    }
   ],
   "source": [
    "IOC = \"./res_database.xlsx\"\n",
    "SHEETNAMEC = \"Sheet1\"\n",
    "path = \"D:\\SPIDER\\chromedriver.exe\"\n",
    "story = \"./target_part.xlsx\"\n",
    "res_database = pd.read_excel(io=IOC, sheetname=SHEETNAMEC)\n",
    "target_part = pd.DataFrame()\n",
    "ref_vol = 0.8\n",
    "target_vol = 5.0\n",
    "resolution = 0.005\n",
    "res_database.head(1)"
   ]
  },
  {
   "cell_type": "code",
   "execution_count": 7,
   "metadata": {
    "collapsed": true
   },
   "outputs": [],
   "source": [
    "for x, k in res_database.iterrows():\n",
    "    pass#print(\"a:\" + str(k[\"Value\"]))\n",
    "    #a = float(i[\"Value\"].split(\"K\")[0].split(\"k\")[0])"
   ]
  },
  {
   "cell_type": "code",
   "execution_count": 8,
   "metadata": {},
   "outputs": [
    {
     "data": {
      "text/html": [
       "<div>\n",
       "<style>\n",
       "    .dataframe thead tr:only-child th {\n",
       "        text-align: right;\n",
       "    }\n",
       "\n",
       "    .dataframe thead th {\n",
       "        text-align: left;\n",
       "    }\n",
       "\n",
       "    .dataframe tbody tr th {\n",
       "        vertical-align: top;\n",
       "    }\n",
       "</style>\n",
       "<table border=\"1\" class=\"dataframe\">\n",
       "  <thead>\n",
       "    <tr style=\"text-align: right;\">\n",
       "      <th></th>\n",
       "      <th>Part Number</th>\n",
       "      <th>Description</th>\n",
       "      <th>Value</th>\n",
       "    </tr>\n",
       "  </thead>\n",
       "  <tbody>\n",
       "    <tr>\n",
       "      <th>0</th>\n",
       "      <td>20001-00642</td>\n",
       "      <td>片状电阻;1/10W;1.07K;1%;0603;RoHS</td>\n",
       "      <td>1.07kΩ</td>\n",
       "    </tr>\n",
       "  </tbody>\n",
       "</table>\n",
       "</div>"
      ],
      "text/plain": [
       "   Part Number                    Description   Value\n",
       "0  20001-00642  片状电阻;1/10W;1.07K;1%;0603;RoHS  1.07kΩ"
      ]
     },
     "execution_count": 8,
     "metadata": {},
     "output_type": "execute_result"
    }
   ],
   "source": [
    "res_database.head(1)"
   ]
  },
  {
   "cell_type": "code",
   "execution_count": 11,
   "metadata": {},
   "outputs": [
    {
     "name": "stdout",
     "output_type": "stream",
     "text": [
      "1 2 3 4 5 6 7 8 9 10 11 12 13 14 15 16 17 18 19 20 21 22 23 24 25 26 27 28 29 30 31 32 33 34 35 36 37 38 39 40 41 42 43 44 45 46 47 48 49 50 51 52 53 54 55 56 57 58 59 60 61 62 63 64 65 66 67 68 69 70 71 72 73 74 75 76 77 78 79 80 81 82 83 84 85 86 87 88 89 90 91 92 93 94 95 96 97 98 99 100 101 102 103 104 105 106 107 108 109 110 111 112 113 114 115 116 117 118 119 120 121 122 123 124 125 126 127 128 129 130 131 132 133 134 135 136 137 138 139 140 141 142 143 144 145 146 147 148 149 150 151 152 153 154 155 156 157 158 159 160 161 162 163 164 165 166 167 168 169 170 171 172 173 174 175 176 177 178 179 180 181 182 183 184 185 186 187 188 189 190 191 192 193 194 195 196 197 198 199 200 201 202 203 204 205 206 207 208 209 210 211 212 213 214 215 216 217 218 219 220 221 222 223 224 225 226 227 228 229 230 231 232 233 234 235 236 237 238 239 240 241 242 243 244 245 246 247 248 249 250 251 252 253 254 255 256 257 258 259 260 261 262 263 264 265 266 267 268 269 270 271 272 273 274 275 276 277 278 279 280 281 282 283 284 285 286 287 288 289 290 291 292 293 294 295 296 297 298 299 300 301 302 303 304 \n",
      "The program takes: \u001b[1;32m 33.06100034713745s\u001b[0m\n"
     ]
    }
   ],
   "source": [
    "num = 1\n",
    "starttime = time.time()\n",
    "for x, i in res_database.iterrows():\n",
    "    for x, j in res_database.iterrows():\n",
    "        a = float(i[\"Value\"].split(\"K\")[0].split(\"k\")[0])\n",
    "        b = float(j[\"Value\"].split(\"K\")[0].split(\"k\")[0])\n",
    "        f = (ref_vol/a)*(a+b)\n",
    "        if(abs(f-target_vol) < resolution):\n",
    "            part = pd.Series([i[\"Part Number\"], i[\"Value\"], \\\n",
    "                              j[\"Part Number\"], j[\"Value\"], \\\n",
    "                              abs(e-target_vol)])\n",
    "            target_part = target_part.append(part, ignore_index=True)\n",
    "            #print(str(num) + \" \", end=\"\")\n",
    "            #num = num+1\n",
    "        for x, k in res_database.iterrows():\n",
    "            #print(\"a\" + i[\"Value\"])\n",
    "            c = float(k[\"Value\"].split(\"K\")[0].split(\"k\")[0])\n",
    "            d = (a*b)/(a+b)\n",
    "            e = (ref_vol/d)*(d+c)\n",
    "            if(abs(e-target_vol) < resolution):\n",
    "                '''print(str(num) + \":    \" +\n",
    "                     i[\"Part Number\"] + \":\" + i[\"Value\"] + \"   \" +\n",
    "                     j[\"Part Number\"] + \":\" + j[\"Value\"] + \"   \" +\n",
    "                     k[\"Part Number\"] + \":\" + k[\"Value\"] + \"   \" +\n",
    "                     str(e-target_vol) + \"\\n\")'''\n",
    "                part = pd.Series([i[\"Part Number\"], i[\"Value\"], \\\n",
    "                                  j[\"Part Number\"], j[\"Value\"], \\\n",
    "                                  k[\"Part Number\"], k[\"Value\"], \\\n",
    "                                  abs(e-target_vol)])\n",
    "                \n",
    "                target_part = target_part.append(part, ignore_index=True)\n",
    "                print(str(num) + \" \", end=\"\")\n",
    "                num = num+1\n",
    "target_part.to_excel(story)\n",
    "endtime = time.time()\n",
    "print(\"\\nThe program takes: \" + \"\\033[1;32m \" + str(endtime-starttime) + \"s\\033[0m\")"
   ]
  },
  {
   "cell_type": "code",
   "execution_count": 35,
   "metadata": {},
   "outputs": [
    {
     "data": {
      "text/html": [
       "<div>\n",
       "<style>\n",
       "    .dataframe thead tr:only-child th {\n",
       "        text-align: right;\n",
       "    }\n",
       "\n",
       "    .dataframe thead th {\n",
       "        text-align: left;\n",
       "    }\n",
       "\n",
       "    .dataframe tbody tr th {\n",
       "        vertical-align: top;\n",
       "    }\n",
       "</style>\n",
       "<table border=\"1\" class=\"dataframe\">\n",
       "  <thead>\n",
       "    <tr style=\"text-align: right;\">\n",
       "      <th></th>\n",
       "    </tr>\n",
       "  </thead>\n",
       "  <tbody>\n",
       "  </tbody>\n",
       "</table>\n",
       "</div>"
      ],
      "text/plain": [
       "Empty DataFrame\n",
       "Columns: []\n",
       "Index: []"
      ]
     },
     "execution_count": 35,
     "metadata": {},
     "output_type": "execute_result"
    }
   ],
   "source": [
    "target_part.head(6)"
   ]
  },
  {
   "cell_type": "code",
   "execution_count": null,
   "metadata": {
    "collapsed": true
   },
   "outputs": [],
   "source": [
    "a"
   ]
  },
  {
   "cell_type": "code",
   "execution_count": null,
   "metadata": {
    "collapsed": true
   },
   "outputs": [],
   "source": []
  }
 ],
 "metadata": {
  "kernelspec": {
   "display_name": "Python 3",
   "language": "python",
   "name": "python3"
  },
  "language_info": {
   "codemirror_mode": {
    "name": "ipython",
    "version": 3
   },
   "file_extension": ".py",
   "mimetype": "text/x-python",
   "name": "python",
   "nbconvert_exporter": "python",
   "pygments_lexer": "ipython3",
   "version": "3.6.2"
  }
 },
 "nbformat": 4,
 "nbformat_minor": 2
}
