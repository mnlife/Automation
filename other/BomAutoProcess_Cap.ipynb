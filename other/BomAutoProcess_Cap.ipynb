{
 "cells": [
  {
   "cell_type": "code",
   "execution_count": 1,
   "metadata": {},
   "outputs": [],
   "source": [
    "import pandas as pd\n",
    "import os"
   ]
  },
  {
   "cell_type": "code",
   "execution_count": 4,
   "metadata": {},
   "outputs": [
    {
     "data": {
      "text/html": [
       "<div>\n",
       "<style>\n",
       "    .dataframe thead tr:only-child th {\n",
       "        text-align: right;\n",
       "    }\n",
       "\n",
       "    .dataframe thead th {\n",
       "        text-align: left;\n",
       "    }\n",
       "\n",
       "    .dataframe tbody tr th {\n",
       "        vertical-align: top;\n",
       "    }\n",
       "</style>\n",
       "<table border=\"1\" class=\"dataframe\">\n",
       "  <thead>\n",
       "    <tr style=\"text-align: right;\">\n",
       "      <th></th>\n",
       "      <th>21002-00005</th>\n",
       "      <th>CP</th>\n",
       "      <th>贴片电解电容;35VDC;100uF;±20%;尺寸8*10mm;-55℃～+105 ℃;5000h/105 ℃;RoHS</th>\n",
       "      <th>VZH-35V-100μF±20%-8*10-105℃</th>\n",
       "      <th>100uF</th>\n",
       "      <th>35VDC</th>\n",
       "      <th>±20%</th>\n",
       "      <th>B(推荐选用)</th>\n",
       "      <th>25990</th>\n",
       "      <th>http://pdm.invt.com.cn/Windchill/servlet/TypeBasedIncludeServlet?ContainerOid=OR:wt.inf.library.WTLibrary:45432&amp;oid=VR:wt.doc.WTDocument:60863641</th>\n",
       "    </tr>\n",
       "  </thead>\n",
       "  <tbody>\n",
       "    <tr>\n",
       "      <th>0</th>\n",
       "      <td>21002-00025</td>\n",
       "      <td>CP</td>\n",
       "      <td>贴片电解电容;50V;100uF;±20%;尺寸10*10mm;-55℃～125℃;4000...</td>\n",
       "      <td>HBW101M1HTR-1010</td>\n",
       "      <td>100uF</td>\n",
       "      <td>50V</td>\n",
       "      <td>±20%</td>\n",
       "      <td>B(推荐选用)</td>\n",
       "      <td>0</td>\n",
       "      <td>http://pdm.invt.com.cn/Windchill/servlet/TypeB...</td>\n",
       "    </tr>\n",
       "  </tbody>\n",
       "</table>\n",
       "</div>"
      ],
      "text/plain": [
       "   21002-00005  CP  \\\n",
       "0  21002-00025  CP   \n",
       "\n",
       "  贴片电解电容;35VDC;100uF;±20%;尺寸8*10mm;-55℃～+105 ℃;5000h/105 ℃;RoHS  \\\n",
       "0  贴片电解电容;50V;100uF;±20%;尺寸10*10mm;-55℃～125℃;4000...              \n",
       "\n",
       "  VZH-35V-100μF±20%-8*10-105℃  100uF 35VDC  ±20%  B(推荐选用)  25990  \\\n",
       "0            HBW101M1HTR-1010  100uF   50V  ±20%  B(推荐选用)      0   \n",
       "\n",
       "  http://pdm.invt.com.cn/Windchill/servlet/TypeBasedIncludeServlet?ContainerOid=OR:wt.inf.library.WTLibrary:45432&oid=VR:wt.doc.WTDocument:60863641  \n",
       "0  http://pdm.invt.com.cn/Windchill/servlet/TypeB...                                                                                                 "
      ]
     },
     "execution_count": 4,
     "metadata": {},
     "output_type": "execute_result"
    }
   ],
   "source": [
    "IOC = \"./ComponmentLibrary.xlsx\"\n",
    "SHEETNAMEC = \"21002smdelectrolyticcapacitor\"\n",
    "#SHEETNAMEC = \"20001pieceresistor\"\n",
    "componment = pd.read_excel(io=IOC, sheetname=SHEETNAMEC)\n",
    "componment.head(1)"
   ]
  },
  {
   "cell_type": "code",
   "execution_count": 3,
   "metadata": {
    "collapsed": true
   },
   "outputs": [],
   "source": [
    "#IOD = \"./destination.xlsx\"\n",
    "#dest  = pd.read_excel(io = IOD)\n",
    "dest = pd.DataFrame()\n",
    "#row = pd.DataFrame(['python', 'pandas', 10], ['name','lib','rank'])\n",
    "#dest.append(row,ignore_index=True)\n"
   ]
  },
  {
   "cell_type": "code",
   "execution_count": 33,
   "metadata": {},
   "outputs": [
    {
     "name": "stdout",
     "output_type": "stream",
     "text": [
      "4.7uF\n",
      "===================\n"
     ]
    },
    {
     "data": {
      "text/html": [
       "<div>\n",
       "<style>\n",
       "    .dataframe thead tr:only-child th {\n",
       "        text-align: right;\n",
       "    }\n",
       "\n",
       "    .dataframe thead th {\n",
       "        text-align: left;\n",
       "    }\n",
       "\n",
       "    .dataframe tbody tr th {\n",
       "        vertical-align: top;\n",
       "    }\n",
       "</style>\n",
       "<table border=\"1\" class=\"dataframe\">\n",
       "  <thead>\n",
       "    <tr style=\"text-align: right;\">\n",
       "      <th></th>\n",
       "      <th>partnumber</th>\n",
       "      <th>a</th>\n",
       "      <th>description</th>\n",
       "      <th>b</th>\n",
       "      <th>c</th>\n",
       "      <th>d</th>\n",
       "      <th>e</th>\n",
       "      <th>f</th>\n",
       "      <th>g</th>\n",
       "      <th>h</th>\n",
       "    </tr>\n",
       "  </thead>\n",
       "  <tbody>\n",
       "    <tr>\n",
       "      <th>0</th>\n",
       "      <td>21003-00287</td>\n",
       "      <td>C</td>\n",
       "      <td>片状电容;25V;4.7uF;±10%;X7R;1206;汽车级;RoHS</td>\n",
       "      <td>GCM31CR71E475KA55L</td>\n",
       "      <td>4.7uf</td>\n",
       "      <td>25V</td>\n",
       "      <td>±10%</td>\n",
       "      <td>C(可以选用)</td>\n",
       "      <td>3056.0</td>\n",
       "      <td>http://pdm.invt.com.cn/Windchill/servlet/TypeB...</td>\n",
       "    </tr>\n",
       "    <tr>\n",
       "      <th>1</th>\n",
       "      <td>21003-00214</td>\n",
       "      <td>C</td>\n",
       "      <td>片状电容;50V;4.7uF;±10%;X7R;1206;RoHS</td>\n",
       "      <td>\\</td>\n",
       "      <td>4.7uF</td>\n",
       "      <td>50V</td>\n",
       "      <td>±10%</td>\n",
       "      <td>C(可以选用)</td>\n",
       "      <td>1345199.0</td>\n",
       "      <td>http://pdm.invt.com.cn/Windchill/servlet/TypeB...</td>\n",
       "    </tr>\n",
       "  </tbody>\n",
       "</table>\n",
       "</div>"
      ],
      "text/plain": [
       "    partnumber  a                            description                   b  \\\n",
       "0  21003-00287  C  片状电容;25V;4.7uF;±10%;X7R;1206;汽车级;RoHS  GCM31CR71E475KA55L   \n",
       "1  21003-00214  C      片状电容;50V;4.7uF;±10%;X7R;1206;RoHS                   \\   \n",
       "\n",
       "       c    d     e        f          g  \\\n",
       "0  4.7uf  25V  ±10%  C(可以选用)     3056.0   \n",
       "1  4.7uF  50V  ±10%  C(可以选用)  1345199.0   \n",
       "\n",
       "                                                   h  \n",
       "0  http://pdm.invt.com.cn/Windchill/servlet/TypeB...  \n",
       "1  http://pdm.invt.com.cn/Windchill/servlet/TypeB...  "
      ]
     },
     "execution_count": 33,
     "metadata": {},
     "output_type": "execute_result"
    }
   ],
   "source": [
    "#os.remove(r'H:\\Deep learning\\BomAutoProcess\\destination.xlsx')\n",
    "IOS = \"./source.xlsx\"\n",
    "SHEETNAME_S = \"Sheet1\"\n",
    "PART_SIZE_S = \"1206\"\n",
    "\n",
    "select_voltage = \"25V\"\n",
    "df = pd.read_excel(io=IOS, sheetname=SHEETNAME_S)\n",
    "dest = pd.DataFrame()\n",
    "dest_row = 0\n",
    "#for i in df[\"specification\"]:\n",
    "if 1:\n",
    "    #slice_part = i.split(\" \")[0]\n",
    "    slice_part = \"4.7uF\"\n",
    "    print slice_part\n",
    "    print \"===================\"\n",
    "    componment_row = 0\n",
    "    for alic in componment[\"description\"]:\n",
    "\n",
    "        if (\"-\"+slice_part in alic) or (\";\"+slice_part in alic):\n",
    "            \n",
    "                if (PART_SIZE_S in alic):# and (select_voltage in alic):\n",
    "                    #print componment_row+2\n",
    "                    #print \"+++++++++++++++++++\"\n",
    "                   \n",
    "                    #componment[componment_row:componment_row+1].to_excel('./destination.xlsx')\n",
    "                    #dest.iloc[dest_row] = componment[componment_row:componment_row+1]\n",
    "                    dest = dest.append(componment[componment_row:componment_row+1], ignore_index=True)\n",
    "                    #print  componment[componment_row:componment_row+1]\n",
    "                    dest_row += 1\n",
    "        componment_row += 1\n",
    "\n",
    "dest.to_excel('./destination.xlsx')\n",
    "dest"
   ]
  },
  {
   "cell_type": "code",
   "execution_count": 11,
   "metadata": {},
   "outputs": [
    {
     "name": "stdout",
     "output_type": "stream",
     "text": [
      "hello\n"
     ]
    }
   ],
   "source": [
    "i = u\"片状电阻;1/10W-100Ω±1%-0603;RoHS\"\n",
    "j = \"0603\"\n",
    "k = \"100\"\n",
    "if j in i:\n",
    "    if k in i:\n",
    "        print \"hello\""
   ]
  },
  {
   "cell_type": "code",
   "execution_count": null,
   "metadata": {
    "collapsed": true
   },
   "outputs": [],
   "source": []
  }
 ],
 "metadata": {
  "kernelspec": {
   "display_name": "Python 2",
   "language": "python",
   "name": "python2"
  },
  "language_info": {
   "codemirror_mode": {
    "name": "ipython",
    "version": 2
   },
   "file_extension": ".py",
   "mimetype": "text/x-python",
   "name": "python",
   "nbconvert_exporter": "python",
   "pygments_lexer": "ipython2",
   "version": "2.7.14"
  }
 },
 "nbformat": 4,
 "nbformat_minor": 2
}
